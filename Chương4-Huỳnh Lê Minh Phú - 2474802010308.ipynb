{
  "nbformat": 4,
  "nbformat_minor": 0,
  "metadata": {
    "colab": {
      "provenance": []
    },
    "kernelspec": {
      "name": "python3",
      "display_name": "Python 3"
    },
    "language_info": {
      "name": "python"
    }
  },
  "cells": [
    {
      "cell_type": "code",
      "execution_count": 20,
      "metadata": {
        "colab": {
          "base_uri": "https://localhost:8080/"
        },
        "id": "2UiKCuYDu0gF",
        "outputId": "4b038461-8e7a-452d-94bd-2b4e262da850"
      },
      "outputs": [
        {
          "output_type": "stream",
          "name": "stdout",
          "text": [
            "sgn([2,1,3,4]) = -1\n",
            "sgn([1,2,3,4]) = 1\n",
            "sgn([4,3,2,1]) = 1\n"
          ]
        }
      ],
      "source": [
        "#1 Định thức và các tính chất\n",
        "import numpy as np\n",
        "\n",
        "n = 4\n",
        "X = np.array(range(1, n + 1))\n",
        "\n",
        "def sgn_by_def(sigma):\n",
        "    ket_qua = 1.0\n",
        "    for i in range(len(X) - 1):\n",
        "        for j in range(i + 1, len(X)):\n",
        "            ket_qua *= ((X[i] - X[j]) / (sigma[i] - sigma[j]))\n",
        "    return int(ket_qua)\n",
        "sigma1 = np.array([2, 1, 3, 4])\n",
        "print(\"sgn([2,1,3,4]) =\", sgn_by_def(sigma1))\n",
        "sigma2 = np.array([1, 2, 3, 4])\n",
        "print(\"sgn([1,2,3,4]) =\", sgn_by_def(sigma2))\n",
        "sigma3 = np.array([4, 3, 2, 1])\n",
        "print(\"sgn([4,3,2,1]) =\", sgn_by_def(sigma3))\n",
        "\n"
      ]
    },
    {
      "cell_type": "code",
      "source": [
        "# 1 Định thức và các tính chất\n",
        "import numpy as np\n",
        "from itertools import permutations\n",
        "\n",
        "def sgn_by_def(sigma):\n",
        "    n = len(sigma)\n",
        "    inv_count = 0\n",
        "    for i in range(n):\n",
        "        for j in range(i + 1, n):\n",
        "            if sigma[i] > sigma[j]:\n",
        "                inv_count += 1\n",
        "    return (-1) ** inv_count\n",
        "def phatsinh_dinhthuc(n):\n",
        "    X = []\n",
        "    for i in range(1, n+1):\n",
        "        X.append(i)\n",
        "    Sn = list(permutations(X))\n",
        "    dinhthuc = \"\"\n",
        "    for sn in Sn:\n",
        "        sigma = np.array([1])\n",
        "        sigma.resize((n,))\n",
        "        product = \"\"\n",
        "        for i in range(1, n+1):\n",
        "            sigma[sn.index(i)] = i\n",
        "            product += \"a\" + str(i) + str(sn.index(i)+1)\n",
        "        dau = sgn_by_def(sigma)\n",
        "        if dau != 1:\n",
        "            product = \" - \" + product\n",
        "        else:\n",
        "            product = \" + \" + product\n",
        "        dinhthuc += product\n",
        "    return dinhthuc\n",
        "def tinhtoan_dinhthuc(A):\n",
        "    import math\n",
        "    X = []\n",
        "    n = int(math.sqrt(A.size))  # tính kích thước của ma trận\n",
        "    for i in range(1, n+1):\n",
        "        X.append(i)\n",
        "    Sn = list(permutations(X))\n",
        "    dinhthuc = 0\n",
        "    for sn in Sn:\n",
        "        sigma = np.array([1])\n",
        "        sigma.resize((n,))\n",
        "        product = 1\n",
        "        for i in range(1, n+1):\n",
        "            sigma[sn.index(i)] = i\n",
        "            product *= A[i-1][sn.index(i)]\n",
        "        dau = sgn_by_def(sigma)\n",
        "        if dau != 1:\n",
        "            product *= -1\n",
        "        dinhthuc += product\n",
        "    return dinhthuc\n",
        "A = np.array([[3, 5, -8],\n",
        "              [4, 12, -1],\n",
        "              [2, 5, 3]])\n",
        "\n",
        "print(\"Biểu thức định thức n=2:\", phatsinh_dinhthuc(2))\n",
        "print(\"Biểu thức định thức n=3:\", phatsinh_dinhthuc(3))\n",
        "print(\"Giá trị định thức:\", tinhtoan_dinhthuc(A))\n"
      ],
      "metadata": {
        "colab": {
          "base_uri": "https://localhost:8080/"
        },
        "id": "yRUqdp_Kv_7i",
        "outputId": "0ff472c0-ba47-4463-b8ee-def81178de4d"
      },
      "execution_count": 6,
      "outputs": [
        {
          "output_type": "stream",
          "name": "stdout",
          "text": [
            "Biểu thức định thức n=2:  + a11a22 - a12a21\n",
            "Biểu thức định thức n=3:  + a11a22a33 - a11a23a32 - a12a21a33 + a13a21a32 + a12a23a31 - a13a22a31\n",
            "Giá trị định thức: 85\n"
          ]
        }
      ]
    },
    {
      "cell_type": "code",
      "source": [
        "# 2 Định thức và ma trận khả nghịch\n",
        "#Hệ hai phương trình tuyến tính bậc 1:\n",
        "import numpy as np\n",
        "from scipy import linalg\n",
        "A = np.array([[4, -2], [3, -5]])\n",
        "A1 = np.array([[10, -2], [11, -5]])\n",
        "A2 = np.array([[4, 10], [3, 11]])\n",
        "# Tính định thức\n",
        "detA = linalg.det(A)\n",
        "detA1 = linalg.det(A1)\n",
        "detA2 = linalg.det(A2)\n",
        "print(\"Các định thức:\")\n",
        "print(\"det(A) =\", detA)\n",
        "print(\"det(A1) =\", detA1)\n",
        "print(\"det(A2) =\", detA2)\n",
        "# Áp dụng quy tắc Cramer\n",
        "if detA != 0:\n",
        "    x1 = detA1 / detA\n",
        "    x2 = detA2 / detA\n",
        "    print(\"Hai nghiệm của phương trình là:\", x1, x2)\n",
        "else:\n",
        "    print(\"Hệ phương trình vô nghiệm hoặc vô số nghiệm.\")"
      ],
      "metadata": {
        "colab": {
          "base_uri": "https://localhost:8080/"
        },
        "id": "gAusqjFKwwfl",
        "outputId": "1b8361bb-aa37-491b-9bee-bb8ff8caead2"
      },
      "execution_count": 7,
      "outputs": [
        {
          "output_type": "stream",
          "name": "stdout",
          "text": [
            "Các định thức:\n",
            "det(A) = -14.0\n",
            "det(A1) = -28.0\n",
            "det(A2) = 14.000000000000004\n",
            "Hai nghiệm của phương trình là: 2.0 -1.0000000000000002\n"
          ]
        }
      ]
    },
    {
      "cell_type": "code",
      "source": [
        "#Hệ ba phương trình tuyến tính bậc 1:\n",
        "import numpy as np\n",
        "from itertools import permutations\n",
        "import math\n",
        "# Hàm tính dấu của phép hoán vị sigma\n",
        "def sgn_by_def(sigma):\n",
        "    n = len(sigma)\n",
        "    count = 0\n",
        "    for i in range(n):\n",
        "        for j in range(i+1, n):\n",
        "            if sigma[i] > sigma[j]:\n",
        "                count += 1\n",
        "    return -1 if count % 2 else 1\n",
        "# Hàm tính định thức theo định nghĩa\n",
        "def tinhtoan_dinhthuc(A):\n",
        "    X = []\n",
        "    n = int(math.sqrt(A.size))\n",
        "    for i in range(1, n+1):\n",
        "        X.append(i)\n",
        "    Sn = list(permutations(X))\n",
        "    dinhthuc = 0\n",
        "    for sn in Sn:\n",
        "        sigma = np.array([1])\n",
        "        sigma.resize([n])\n",
        "        product = 1\n",
        "        for i in range(1, n+1):\n",
        "            sigma[sn.index(i)] = i\n",
        "            product *= A[i-1][sn.index(i)]\n",
        "        dau = sgn_by_def(sigma)\n",
        "        if dau != 1:\n",
        "            product *= -1\n",
        "        dinhthuc += product\n",
        "    return dinhthuc\n",
        "# Khai báo các ma trận\n",
        "A = np.array([[-1, 2, -3],\n",
        "              [ 2, -2, 1],\n",
        "              [ 3, -4, 4]])\n",
        "\n",
        "AX = np.array([[1, 2, -3],\n",
        "               [3, -2, 1],\n",
        "               [2, -4, 4]])\n",
        "\n",
        "AY = np.array([[-1, 1, -3],\n",
        "               [ 2, 3, 1],\n",
        "               [ 3, 2, 4]])\n",
        "\n",
        "AZ = np.array([[-1, 2, 1],\n",
        "               [ 2, -2, 3],\n",
        "               [ 3, -4, 2]])\n",
        "\n",
        "# Tính các định thức\n",
        "detA = tinhtoan_dinhthuc(A)\n",
        "detX = tinhtoan_dinhthuc(AX)\n",
        "detY = tinhtoan_dinhthuc(AY)\n",
        "detZ = tinhtoan_dinhthuc(AZ)\n",
        "\n",
        "# Giải hệ phương trình\n",
        "if detA != 0:\n",
        "    x, y, z = detX/detA, detY/detA, detZ/detA\n",
        "    print(\"Nghiệm của hệ phương trình là:\")\n",
        "    print(\"x =\", x, \"y =\", y, \"z =\", z)\n",
        "else:\n",
        "    print(\"Hệ phương trình vô nghiệm hoặc vô số nghiệm.\")\n"
      ],
      "metadata": {
        "colab": {
          "base_uri": "https://localhost:8080/"
        },
        "id": "S4Kx7MPuxQHX",
        "outputId": "6d49a933-4ceb-44cc-8a62-3bb51384f614"
      },
      "execution_count": 15,
      "outputs": [
        {
          "output_type": "stream",
          "name": "stdout",
          "text": [
            "Hệ phương trình vô nghiệm hoặc vô số nghiệm.\n"
          ]
        }
      ]
    },
    {
      "cell_type": "code",
      "source": [
        "#Bai tap chuong\n",
        "#bai 1\n",
        "import numpy as np\n",
        "# Hàm lấy ma trận con khi loại bỏ dòng i và cột j\n",
        "def get_minor(matrix, i, j):\n",
        "    minor = np.delete(matrix, i, axis=0)  # Xóa dòng i\n",
        "    minor = np.delete(minor, j, axis=1)   # Xóa cột j\n",
        "    return minor\n",
        "def cofactor_matrix(A):\n",
        "    n = A.shape[0]\n",
        "    C = np.zeros((n, n))\n",
        "    for i in range(n):\n",
        "        for j in range(n):\n",
        "            minor = get_minor(A, i, j)\n",
        "            C[i][j] = ((-1) ** (i + j)) * np.linalg.det(minor)\n",
        "    return C\n",
        "def adjoint_matrix(A):\n",
        "    C = cofactor_matrix(A)\n",
        "    return C.T\n",
        "A = np.array([[2, -1, 0],\n",
        "              [1, 3, 4],\n",
        "              [0, 2, 1]])\n",
        "\n",
        "print(\"Ma trận A:\")\n",
        "print(A)\n",
        "C = cofactor_matrix(A)\n",
        "print(\"\\nMa trận hệ số phụ (cofactor matrix):\")\n",
        "print(C)\n",
        "Adj = adjoint_matrix(A)\n",
        "print(\"\\nMa trận liên hợp (adjoint matrix):\")\n",
        "print(Adj)"
      ],
      "metadata": {
        "colab": {
          "base_uri": "https://localhost:8080/"
        },
        "id": "xG6EeaRiyG78",
        "outputId": "c3c54e4c-2a96-47ec-a0ff-cf31532cbbd0"
      },
      "execution_count": 16,
      "outputs": [
        {
          "output_type": "stream",
          "name": "stdout",
          "text": [
            "Ma trận A:\n",
            "[[ 2 -1  0]\n",
            " [ 1  3  4]\n",
            " [ 0  2  1]]\n",
            "\n",
            "Ma trận hệ số phụ (cofactor matrix):\n",
            "[[-5. -1.  2.]\n",
            " [ 1.  2. -4.]\n",
            " [-4. -8.  7.]]\n",
            "\n",
            "Ma trận liên hợp (adjoint matrix):\n",
            "[[-5.  1. -4.]\n",
            " [-1.  2. -8.]\n",
            " [ 2. -4.  7.]]\n"
          ]
        }
      ]
    },
    {
      "cell_type": "code",
      "source": [
        "#Bai 2\n",
        "import sympy as sp\n",
        "x, y = sp.symbols('x y')\n",
        "# Nhập 3 điểm trên mặt phẳng\n",
        "x1, y1 = 1, 1\n",
        "x2, y2 = 2, 4\n",
        "x3, y3 = 5, 3\n",
        "# Tạo ma trận định thức\n",
        "circle_matrix = sp.Matrix([\n",
        "    [x**2 + y**2, x, y, 1],\n",
        "    [x1**2 + y1**2, x1, y1, 1],\n",
        "    [x2**2 + y2**2, x2, y2, 1],\n",
        "    [x3**2 + y3**2, x3, y3, 1]\n",
        "])\n",
        "\n",
        "equation = sp.simplify(circle_matrix.det())\n",
        "\n",
        "print(\"Phương trình đường tròn đi qua 3 điểm là:\")\n",
        "sp.pprint(sp.Eq(equation, 0))\n"
      ],
      "metadata": {
        "colab": {
          "base_uri": "https://localhost:8080/"
        },
        "id": "oPN2ULy22-sn",
        "outputId": "fe9ae5ad-cb14-451c-9b58-285746987b94"
      },
      "execution_count": 19,
      "outputs": [
        {
          "output_type": "stream",
          "name": "stdout",
          "text": [
            "Phương trình đường tròn đi qua 3 điểm là:\n",
            "      2              2                \n",
            "- 10⋅x  + 60⋅x - 10⋅y  + 40⋅y - 80 = 0\n"
          ]
        }
      ]
    }
  ]
}