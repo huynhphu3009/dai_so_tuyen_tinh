{
  "cells": [
    {
      "cell_type": "markdown",
      "source": [
        "Bài 1"
      ],
      "metadata": {
        "id": "TQ65160h8k5k"
      }
    },
    {
      "cell_type": "code",
      "source": [
        "import numpy as np\n",
        "\n",
        "u = np.array([2, -1, 5, 0])\n",
        "v = np.array([4, 3, 1, -1])\n",
        "w = np.array([-6, 2, 0, 3])\n",
        "\n",
        "x_a = 2*u - (v + 3*w)\n",
        "print(\"Câu a - x =\", x_a)\n",
        "\n",
        "x_b = 0.5 * (2*u - v - 3*w)\n",
        "print(\"Câu b - x =\", x_b)\n"
      ],
      "metadata": {
        "colab": {
          "base_uri": "https://localhost:8080/"
        },
        "id": "xSlKEyGB8moH",
        "outputId": "dba31703-ab49-46c7-d0e6-659ba3ffbad9"
      },
      "execution_count": 1,
      "outputs": [
        {
          "output_type": "stream",
          "name": "stdout",
          "text": [
            "Câu a - x = [ 18 -11   9  -8]\n",
            "Câu b - x = [ 9.  -5.5  4.5 -4. ]\n"
          ]
        }
      ]
    },
    {
      "cell_type": "markdown",
      "source": [
        "Bài 2"
      ],
      "metadata": {
        "id": "TPlpq88x9kdQ"
      }
    },
    {
      "cell_type": "code",
      "source": [
        "import numpy as np\n",
        "from numpy import linalg\n",
        "\n",
        "A = np.array([\n",
        "    [0, -1, 3],\n",
        "    [1,  1, 1],\n",
        "    [4,  2, 2]\n",
        "])\n",
        "\n",
        "B = np.array([-1, -2, -2])\n",
        "\n",
        "X = np.linalg.solve(A, B)\n",
        "print(\"Nghiệm của hệ là:\", X)\n"
      ],
      "metadata": {
        "colab": {
          "base_uri": "https://localhost:8080/"
        },
        "id": "FZqFwA5n9nxT",
        "outputId": "7500dec3-252f-4f03-d08c-2abc1e0fa310"
      },
      "execution_count": 2,
      "outputs": [
        {
          "output_type": "stream",
          "name": "stdout",
          "text": [
            "Nghiệm của hệ là: [ 1. -2. -1.]\n"
          ]
        }
      ]
    },
    {
      "cell_type": "markdown",
      "source": [
        "Bài 3"
      ],
      "metadata": {
        "id": "3WCl3Ify9ro2"
      }
    },
    {
      "cell_type": "code",
      "source": [
        "import numpy as np\n",
        "from numpy import linalg as LA\n",
        "\n",
        "A = np.matrix([[1, 0], [0, 0]])\n",
        "B = np.matrix([[0, 0], [0, 1]])\n",
        "\n",
        "try:\n",
        "    LA.inv(A)\n",
        "except Exception as e:\n",
        "    print(\"LA.inv(A):\", e)\n",
        "\n",
        "try:\n",
        "    LA.inv(B)\n",
        "except Exception as e:\n",
        "    print(\"LA.inv(B):\", e)\n",
        "\n",
        "print(\"LA.inv(A + B):\\n\", LA.inv(A + B))\n",
        "\n",
        "print(\"LA.det(A):\", LA.det(A))\n",
        "print(\"LA.det(B):\", LA.det(B))\n",
        "print(\"LA.det(A + B):\", LA.det(A + B))\n"
      ],
      "metadata": {
        "colab": {
          "base_uri": "https://localhost:8080/"
        },
        "id": "XZnpKHb49tk2",
        "outputId": "ae1177a5-cf3d-4d6c-bb00-e56f97b2cfa2"
      },
      "execution_count": 3,
      "outputs": [
        {
          "output_type": "stream",
          "name": "stdout",
          "text": [
            "LA.inv(A): Singular matrix\n",
            "LA.inv(B): Singular matrix\n",
            "LA.inv(A + B):\n",
            " [[1. 0.]\n",
            " [0. 1.]]\n",
            "LA.det(A): 0.0\n",
            "LA.det(B): 0.0\n",
            "LA.det(A + B): 1.0\n"
          ]
        }
      ]
    },
    {
      "cell_type": "markdown",
      "source": [
        "Bài 4"
      ],
      "metadata": {
        "id": "XNoSqp3u-WZh"
      }
    },
    {
      "cell_type": "code",
      "source": [
        "import sympy as sp\n",
        "\n",
        "x, y = sp.symbols('x y')\n",
        "A = sp.Matrix([[x, y], [y, x]])\n",
        "\n",
        "x1, y1 = sp.symbols('x1 y1')\n",
        "A1 = sp.Matrix([[x1, y1], [y1, x1]])\n",
        "\n",
        "x2, y2 = sp.symbols('x2 y2')\n",
        "A2 = sp.Matrix([[x2, y2], [y2, x2]])\n",
        "\n",
        "print(\"A1.T =\")\n",
        "print(A1.T)\n",
        "\n",
        "print(\"A1 + A2 =\")\n",
        "print(A1 + A2)\n",
        "\n",
        "print(\"(A1 + A2).T =\")\n",
        "print((A1 + A2).T)\n",
        "\n",
        "print(\"Kiểm tra (A1 + A2).T == A1 + A2:\")\n",
        "print((A1 + A2).T.equals(A1 + A2))\n",
        "\n",
        "c = sp.symbols('c')\n",
        "print(\"c*A =\")\n",
        "print(c * A)\n",
        "\n",
        "print(\"Kiểm tra (c*A).T == c*A:\")\n",
        "print((c * A).T.equals(c * A))\n"
      ],
      "metadata": {
        "colab": {
          "base_uri": "https://localhost:8080/"
        },
        "id": "UQD4ZpYu-ZCg",
        "outputId": "11e3caad-0da4-4962-ea5d-c208024ec50c"
      },
      "execution_count": 4,
      "outputs": [
        {
          "output_type": "stream",
          "name": "stdout",
          "text": [
            "A1.T =\n",
            "Matrix([[x1, y1], [y1, x1]])\n",
            "A1 + A2 =\n",
            "Matrix([[x1 + x2, y1 + y2], [y1 + y2, x1 + x2]])\n",
            "(A1 + A2).T =\n",
            "Matrix([[x1 + x2, y1 + y2], [y1 + y2, x1 + x2]])\n",
            "Kiểm tra (A1 + A2).T == A1 + A2:\n",
            "True\n",
            "c*A =\n",
            "Matrix([[c*x, c*y], [c*y, c*x]])\n",
            "Kiểm tra (c*A).T == c*A:\n",
            "True\n"
          ]
        }
      ]
    },
    {
      "cell_type": "markdown",
      "source": [
        "Bài 5"
      ],
      "metadata": {
        "id": "AKyD_sOD-n1C"
      }
    },
    {
      "cell_type": "code",
      "source": [
        "import numpy as np\n",
        "\n",
        "a1 = np.array([1, 2, 3])\n",
        "a2 = np.array([0, 1, 2])\n",
        "a3 = np.array([-1, 0, 1])\n",
        "\n",
        "A = np.column_stack((a1, a2, a3))\n",
        "\n",
        "w1 = np.array([1, 1, 1])\n",
        "x1, _, _, _ = np.linalg.lstsq(A, w1, rcond=None)\n",
        "res1 = np.allclose(A @ x1, w1)\n",
        "print(\"Vector (1,1,1) là tổ hợp tuyến tính:\", res1, \"với nghiệm:\", x1)\n",
        "\n",
        "w2 = np.array([1, -2, 2])\n",
        "x2, _, _, _ = np.linalg.lstsq(A, w2, rcond=None)\n",
        "res2 = np.allclose(A @ x2, w2)\n",
        "print(\"Vector (1,-2,2) là tổ hợp tuyến tính:\", res2, \"với nghiệm:\", x2)\n"
      ],
      "metadata": {
        "colab": {
          "base_uri": "https://localhost:8080/"
        },
        "id": "mCy2NwiK-2SU",
        "outputId": "02418e92-c27d-4a53-b907-e84aea2a4f0d"
      },
      "execution_count": 7,
      "outputs": [
        {
          "output_type": "stream",
          "name": "stdout",
          "text": [
            "Vector (1,1,1) là tổ hợp tuyến tính: True với nghiệm: [ 5.0000000e-01  1.2490009e-16 -5.0000000e-01]\n",
            "Vector (1,-2,2) là tổ hợp tuyến tính: False với nghiệm: [0.08333333 0.16666667 0.25      ]\n"
          ]
        }
      ]
    },
    {
      "cell_type": "markdown",
      "source": [
        "Bài 6"
      ],
      "metadata": {
        "id": "FUDzl1rY_KjL"
      }
    },
    {
      "cell_type": "code",
      "source": [
        "import sympy as sp\n",
        "\n",
        "c1, c2, c3 = sp.symbols('c1 c2 c3')\n",
        "\n",
        "eq1 = c1 - 2 * c3\n",
        "eq2 = 2 * c1 + c2\n",
        "eq3 = 3 * c1 + 2 * c2 + c3\n",
        "\n",
        "solution = sp.solve([eq1, eq2, eq3], (c1, c2, c3))\n",
        "print(\"Nghiệm của hệ là:\", solution)\n"
      ],
      "metadata": {
        "colab": {
          "base_uri": "https://localhost:8080/"
        },
        "id": "a3q1dO2l_NBo",
        "outputId": "1804f821-2450-4741-db54-133da5084cdd"
      },
      "execution_count": 8,
      "outputs": [
        {
          "output_type": "stream",
          "name": "stdout",
          "text": [
            "Nghiệm của hệ là: {c1: 0, c2: 0, c3: 0}\n"
          ]
        }
      ]
    },
    {
      "cell_type": "markdown",
      "source": [
        "Bài 7"
      ],
      "metadata": {
        "id": "_r6tDH_a_1QI"
      }
    },
    {
      "cell_type": "code",
      "source": [
        "import sympy as sp\n",
        "\n",
        "c1, c2 = sp.symbols('c1 c2')\n",
        "u1, u2 = sp.symbols('u1 u2')\n",
        "\n",
        "print(\"Giải hệ tổng quát để kiểm tra tập sinh:\")\n",
        "general_solution = sp.solve([c1 + c2 - u1, c1 - c2 - u2], (c1, c2))\n",
        "print(general_solution)\n",
        "\n",
        "print(\"\\nGiải hệ riêng khi u1 = 0, u2 = 0 để kiểm tra độc lập tuyến tính:\")\n",
        "u1_val = 0\n",
        "u2_val = 0\n",
        "independence_solution = sp.solve([c1 + c2 - u1_val, c1 - c2 - u2_val], (c1, c2))\n",
        "print(independence_solution)\n"
      ],
      "metadata": {
        "colab": {
          "base_uri": "https://localhost:8080/"
        },
        "id": "MCyVsk7a_3Ek",
        "outputId": "6268d51f-11c7-4b11-84be-0ae30b11c1bb"
      },
      "execution_count": 9,
      "outputs": [
        {
          "output_type": "stream",
          "name": "stdout",
          "text": [
            "Giải hệ tổng quát để kiểm tra tập sinh:\n",
            "{c1: u1/2 + u2/2, c2: u1/2 - u2/2}\n",
            "\n",
            "Giải hệ riêng khi u1 = 0, u2 = 0 để kiểm tra độc lập tuyến tính:\n",
            "{c1: 0, c2: 0}\n"
          ]
        }
      ]
    },
    {
      "cell_type": "markdown",
      "source": [
        "2.Ánh xạ Tuyến tính"
      ],
      "metadata": {
        "id": "bhY8yeVEANc2"
      }
    },
    {
      "cell_type": "markdown",
      "source": [
        "2.2"
      ],
      "metadata": {
        "id": "deH3-QBqASgy"
      }
    },
    {
      "cell_type": "code",
      "source": [
        "import numpy as np\n",
        "import matplotlib.pyplot as plt\n",
        "\n",
        "P = np.array([\n",
        "    [0, 0, 3, 3, 1, 1, 2, 2, 1, 1],\n",
        "    [0, 5, 5, 4, 4, 3, 3, 2, 2, 0]\n",
        "])\n",
        "\n",
        "fig, axs = plt.subplots(2, 3, figsize=(15, 10))\n",
        "axs = axs.flatten()\n",
        "\n",
        "axs[0].plot(P[0], P[1], 'bo-')\n",
        "axs[0].set_title(\"Hình gốc (chữ F)\")\n",
        "axs[0].axis('equal')\n",
        "\n",
        "# a. Biến đổi tịnh tiến\n",
        "vec_delta_a = np.array([4, 2])\n",
        "P_a = (P.T + vec_delta_a).T\n",
        "axs[1].plot(P_a[0], P_a[1], 'go-')\n",
        "axs[1].set_title(\"a. Tịnh tiến (4, 2)\")\n",
        "axs[1].axis('equal')\n",
        "\n",
        "# b. Tịnh tiến + co giãn trục y (gấp đôi)\n",
        "vec_delta_b = np.array([4, -2])\n",
        "matrix_b = np.array([[1.0, 0.0], [0.0, 2.0]])\n",
        "P_b = (P.T @ matrix_b + vec_delta_b).T\n",
        "axs[2].plot(P_b[0], P_b[1], 'ro-')\n",
        "axs[2].set_title(\"b. Co giãn Y (G=2), tịnh tiến (4,-2)\")\n",
        "axs[2].axis('equal')\n",
        "\n",
        "# c. Tịnh tiến + đối xứng qua trục y\n",
        "vec_delta_c = np.array([6, 0])\n",
        "matrix_c = np.array([[-1, 0], [0, 1]])\n",
        "P_c = (P.T @ matrix_c + vec_delta_c).T\n",
        "axs[3].plot(P_c[0], P_c[1], 'mo-')\n",
        "axs[3].set_title(\"c. Đối xứng trục y, tịnh tiến (6, 0)\")\n",
        "axs[3].axis('equal')\n",
        "\n",
        "# d. Tịnh tiến + shearing X (L = 1)\n",
        "vec_delta_d = np.array([2, 0])\n",
        "matrix_d = np.array([[1, 1], [0, 1]])\n",
        "P_d = (P.T @ matrix_d + vec_delta_d).T\n",
        "axs[4].plot(P_d[0], P_d[1], 'co-')\n",
        "axs[4].set_title(\"d. Shear X (L=1), tịnh tiến (2, 0)\")\n",
        "axs[4].axis('equal')\n",
        "\n",
        "# Đối xứng qua đường y = 0 (x đổi dấu)\n",
        "matrix_sym_y0 = np.array([[-1, 0], [0, 1]])\n",
        "P_sy = (P.T @ matrix_sym_y0).T\n",
        "axs[5].plot(P_sy[0], P_sy[1], 'yo-')\n",
        "axs[5].set_title(\"Đối xứng qua y=0 (x→-x)\")\n",
        "axs[5].axis('equal')\n",
        "\n",
        "# Đối xứng qua đường y = x\n",
        "matrix_sym_yx = np.array([[0, 1], [1, 0]])\n",
        "P_syx = (P.T @ matrix_sym_yx).T\n",
        "fig2, ax2 = plt.subplots(figsize=(6,6))\n",
        "ax2.plot(P_syx[0], P_syx[1], 'ko-')\n",
        "ax2.set_title(\"Đối xứng qua đường y = x\")\n",
        "ax2.axis('equal')\n",
        "\n",
        "plt.tight_layout()\n",
        "plt.show()\n"
      ],
      "metadata": {
        "colab": {
          "base_uri": "https://localhost:8080/",
          "height": 1000
        },
        "id": "zc75TZ8oATkB",
        "outputId": "37badd45-49b2-446d-9db9-20a73a155f0f"
      },
      "execution_count": 10,
      "outputs": [
        {
          "output_type": "display_data",
          "data": {
            "text/plain": [
              "<Figure size 1500x1000 with 6 Axes>"
            ],
            "image/png": "[encoded data removed]"
          },
          "metadata": {}
        },
        {
          "output_type": "display_data",
          "data": {
            "text/plain": [
              "<Figure size 600x600 with 1 Axes>"
            ],
            "image/png": "[encoded data removed]"
          },
          "metadata": {}
        }
      ]
    },
    {
      "cell_type": "markdown",
      "source": [
        "3. [Đọc thêm] Kiểm lý thuyết về ánh xạ tuyến tính"
      ],
      "metadata": {
        "id": "Ig9hAHKsBv9x"
      }
    },
    {
      "cell_type": "markdown",
      "source": [
        "3.1"
      ],
      "metadata": {
        "id": "t4rTrfa0B0ko"
      }
    },
    {
      "cell_type": "code",
      "source": [
        "import sympy as sp\n",
        "from sympy import lambdify\n",
        "\n",
        "x1, x2, x3 = sp.symbols('x1 x2 x3')\n",
        "a, b, c = sp.symbols('a b c')\n",
        "d, e, f = sp.symbols('d e f')\n",
        "q = sp.symbols('q')\n",
        "\n",
        "bieuthuc1 = x1 - x2 + x3\n",
        "f1 = lambdify([x1, x2, x3], bieuthuc1, 'numpy')\n",
        "\n",
        "expr1 = f1(a, b, c)\n",
        "expr2 = f1(d, e, f)\n",
        "expr_sum = f1(a + d, b + e, c + f)\n",
        "kiemtra1 = (expr1 + expr2).equals(expr_sum)\n",
        "\n",
        "expr_scale = (q * f1(a, b, c) + f1(d, e, f)).equals(f1(q * a + d, q * b + e, q * c + f).expand())\n",
        "\n",
        "print(\"f1 là ánh xạ tuyến tính:\", kiemtra1 and expr_scale)\n",
        "\n",
        "bieuthuc2 = 2 * x1 + 3 * x2\n",
        "f2 = lambdify([x1, x2, x3], bieuthuc2, 'numpy')\n",
        "\n",
        "expr3 = (q * f2(a, b, c) + f2(d, e, f)).equals(f2(q * a + d, q * b + e, q * c + f).expand())\n",
        "\n",
        "print(\"f2 là ánh xạ tuyến tính:\", expr3)\n",
        "\n",
        "if kiemtra1 and expr_scale and expr3:\n",
        "    print(\"Ánh xạ đã cho là ánh xạ tuyến tính.\")\n",
        "else:\n",
        "    print(\"Ánh xạ đã cho KHÔNG phải là ánh xạ tuyến tính.\")\n"
      ],
      "metadata": {
        "colab": {
          "base_uri": "https://localhost:8080/"
        },
        "id": "xAXLkt2QCDwa",
        "outputId": "3a664c1f-dd09-45af-db24-5a2e51707156"
      },
      "execution_count": 11,
      "outputs": [
        {
          "output_type": "stream",
          "name": "stdout",
          "text": [
            "f1 là ánh xạ tuyến tính: True\n",
            "f2 là ánh xạ tuyến tính: True\n",
            "Ánh xạ đã cho là ánh xạ tuyến tính.\n"
          ]
        }
      ]
    },
    {
      "cell_type": "markdown",
      "source": [
        "3.2"
      ],
      "metadata": {
        "id": "AOAiUBSrCQZV"
      }
    },
    {
      "cell_type": "code",
      "source": [
        "import numpy as np\n",
        "from numpy.linalg import solve\n",
        "\n",
        "v1 = np.array([1, 2])\n",
        "v2 = np.array([3, 5])\n",
        "v = np.array([4, 5])\n",
        "\n",
        "A = np.column_stack((v1, v2))\n",
        "x = solve(A, v)\n",
        "\n",
        "T_v1 = np.array([1, 1, 2])\n",
        "T_v2 = np.array([4, 2, 1])\n",
        "\n",
        "T_v = x[0] * T_v1 + x[1] * T_v2\n",
        "\n",
        "print(\"Hệ số tổ hợp tuyến tính (s, t):\", x)\n",
        "print(\"T(v) =\", T_v)\n"
      ],
      "metadata": {
        "colab": {
          "base_uri": "https://localhost:8080/"
        },
        "id": "hnw35rc9CRki",
        "outputId": "42f7b5d3-d939-4e37-97bc-8ee449cc96e8"
      },
      "execution_count": 12,
      "outputs": [
        {
          "output_type": "stream",
          "name": "stdout",
          "text": [
            "Hệ số tổ hợp tuyến tính (s, t): [-5.  3.]\n",
            "T(v) = [ 7.  1. -7.]\n"
          ]
        }
      ]
    },
    {
      "cell_type": "markdown",
      "source": [
        "3.3"
      ],
      "metadata": {
        "id": "uZK2QeCCCrPR"
      }
    },
    {
      "cell_type": "code",
      "source": [
        "import sympy as sp\n",
        "import numpy as np\n",
        "\n",
        "a, b = sp.symbols('a b')\n",
        "x, y = sp.symbols('x y')\n",
        "\n",
        "nghiem = sp.solve([a + 3*b - x, 2*a + 5*b - y], [a, b])\n",
        "a_giai = nghiem[a]\n",
        "b_giai = nghiem[b]\n",
        "\n",
        "fu1 = np.array([1, 1, 2])\n",
        "fu2 = np.array([4, 2, 1])\n",
        "\n",
        "fu = a_giai * fu1 + b_giai * fu2\n",
        "print(\"Tọa độ ánh xạ tuyến tính f(x, y) là:\")\n",
        "print(fu)\n"
      ],
      "metadata": {
        "colab": {
          "base_uri": "https://localhost:8080/"
        },
        "id": "SBbzG3dJC45r",
        "outputId": "a7be6128-f9c0-41fc-f15f-677ea7dca549"
      },
      "execution_count": 13,
      "outputs": [
        {
          "output_type": "stream",
          "name": "stdout",
          "text": [
            "Tọa độ ánh xạ tuyến tính f(x, y) là:\n",
            "[3*x - y -x + y -8*x + 5*y]\n"
          ]
        }
      ]
    },
    {
      "cell_type": "markdown",
      "source": [
        "3.4"
      ],
      "metadata": {
        "id": "jkkQHrTgDCnN"
      }
    },
    {
      "cell_type": "code",
      "source": [
        "import sympy as sp\n",
        "\n",
        "x1, x2, x3 = sp.symbols('x1 x2 x3')\n",
        "\n",
        "he_nghiem = sp.solve([\n",
        "    x1 + x2 - x3,\n",
        "    2*x1 + 3*x2 - x3,\n",
        "    3*x1 + 5*x2 - x3\n",
        "], [x1, x2, x3])\n",
        "\n",
        "print(\"Nghiệm tổng quát của hệ là:\")\n",
        "print(he_nghiem)\n",
        "\n",
        "# Biểu diễn theo tham số Q\n",
        "Q = sp.symbols('Q')\n",
        "vec_ker = [he_nghiem[x1].subs(x3, Q), he_nghiem[x2].subs(x3, Q), Q]\n",
        "print(\"Vector cơ sở của Ker(f) là:\")\n",
        "print(vec_ker)\n"
      ],
      "metadata": {
        "colab": {
          "base_uri": "https://localhost:8080/"
        },
        "id": "RZJ4dSbfDD2l",
        "outputId": "6d86a307-f66f-42bf-dba1-82b9a9533072"
      },
      "execution_count": 14,
      "outputs": [
        {
          "output_type": "stream",
          "name": "stdout",
          "text": [
            "Nghiệm tổng quát của hệ là:\n",
            "{x1: 2*x3, x2: -x3}\n",
            "Vector cơ sở của Ker(f) là:\n",
            "[2*Q, -Q, Q]\n"
          ]
        }
      ]
    },
    {
      "cell_type": "markdown",
      "source": [
        "3.5"
      ],
      "metadata": {
        "id": "-f5XZL7bDJtv"
      }
    },
    {
      "cell_type": "code",
      "source": [
        "import sympy as sp\n",
        "\n",
        "v1 = sp.Matrix([1, 2, 3])\n",
        "v2 = sp.Matrix([1, 3, 5])\n",
        "v3 = sp.Matrix([-1, -1, -1])\n",
        "\n",
        "A = sp.Matrix.hstack(v1, v2, v3)\n",
        "image_basis = A.columnspace()\n",
        "\n",
        "print(\"Cơ sở của ảnh ánh xạ Im(f) là:\")\n",
        "for vec in image_basis:\n",
        "    print(vec)\n"
      ],
      "metadata": {
        "colab": {
          "base_uri": "https://localhost:8080/"
        },
        "id": "v8AcSD4ADLCB",
        "outputId": "d7a5f917-c172-4888-b28b-8ca4d18a4e34"
      },
      "execution_count": 15,
      "outputs": [
        {
          "output_type": "stream",
          "name": "stdout",
          "text": [
            "Cơ sở của ảnh ánh xạ Im(f) là:\n",
            "Matrix([[1], [2], [3]])\n",
            "Matrix([[1], [3], [5]])\n"
          ]
        }
      ]
    },
    {
      "cell_type": "markdown",
      "source": [
        "3.6"
      ],
      "metadata": {
        "id": "G_7RvQNHDdh4"
      }
    },
    {
      "cell_type": "code",
      "source": [
        "import sympy as sp\n",
        "\n",
        "v1 = sp.Matrix([-1, 1])\n",
        "v2 = sp.Matrix([1, 0])\n",
        "\n",
        "def f(v):\n",
        "    x, y = v[0], v[1]\n",
        "    return sp.Matrix([x - y, x])\n",
        "\n",
        "fv1 = f(v1)\n",
        "fv2 = f(v2)\n",
        "\n",
        "b1 = sp.Matrix([1, 2])\n",
        "b2 = sp.Matrix([1, 3])\n",
        "\n",
        "a1, a2 = sp.symbols('a1 a2')\n",
        "sol1 = sp.solve([\n",
        "    a1 * b1[0] + a2 * b2[0] - fv1[0],\n",
        "    a1 * b1[1] + a2 * b2[1] - fv1[1]\n",
        "], (a1, a2))\n",
        "coord1 = sp.Matrix([sol1[a1], sol1[a2]])\n",
        "\n",
        "b1_, b2_ = sp.symbols('b1 b2')\n",
        "sol2 = sp.solve([\n",
        "    b1_ * b1[0] + b2_ * b2[0] - fv2[0],\n",
        "    b1_ * b1[1] + b2_ * b2[1] - fv2[1]\n",
        "], (b1_, b2_))\n",
        "coord2 = sp.Matrix([sol2[b1_], sol2[b2_]])\n",
        "\n",
        "A = sp.Matrix.hstack(coord1, coord2)\n",
        "\n",
        "sp.pprint(A)\n"
      ],
      "metadata": {
        "colab": {
          "base_uri": "https://localhost:8080/"
        },
        "id": "qX_fkEiCDezO",
        "outputId": "543cc25d-8ddb-4aeb-8938-e41f20f917f5"
      },
      "execution_count": 16,
      "outputs": [
        {
          "output_type": "stream",
          "name": "stdout",
          "text": [
            "⎡-5  2 ⎤\n",
            "⎢      ⎥\n",
            "⎣3   -1⎦\n"
          ]
        }
      ]
    },
    {
      "cell_type": "markdown",
      "source": [
        "4. Bài toán ứng dụng: Đường conic và các phép biến đổi"
      ],
      "metadata": {
        "id": "XuWWQ-CDD4qQ"
      }
    },
    {
      "cell_type": "code",
      "source": [
        "import sympy as sp\n",
        "\n",
        "\n",
        "x_s, y_s = sp.symbols(\"x_s y_s\")\n",
        "\n",
        "\n",
        "theta = sp.pi / 4\n",
        "cos_theta = sp.cos(theta)\n",
        "sin_theta = sp.sin(theta)\n",
        "\n",
        "\n",
        "x = (1/sp.sqrt(2)) * (x_s - y_s)\n",
        "y = (1/sp.sqrt(2)) * (x_s + y_s)\n",
        "\n",
        "\n",
        "A = 5\n",
        "B = -6\n",
        "C = 5\n",
        "D = 14 * sp.sqrt(2)\n",
        "E = -2 * sp.sqrt(2)\n",
        "F = 18\n",
        "\n",
        "\n",
        "expr = A*x**2 + B*x*y + C*y**2 + D*x + E*y + F\n",
        "expr_simplified = sp.expand(expr)\n",
        "\n",
        "\n",
        "sp.pprint(expr_simplified)\n"
      ],
      "metadata": {
        "colab": {
          "base_uri": "https://localhost:8080/"
        },
        "id": "570dXA21D5q_",
        "outputId": "2d53e70d-2783-4507-aabf-563c59e6485a"
      },
      "execution_count": 20,
      "outputs": [
        {
          "output_type": "stream",
          "name": "stdout",
          "text": [
            "    2               2             \n",
            "2⋅xₛ  + 12⋅xₛ + 8⋅yₛ  - 16⋅yₛ + 18\n"
          ]
        }
      ]
    },
    {
      "cell_type": "markdown",
      "source": [
        "Bài Tập Chương 8"
      ],
      "metadata": {
        "id": "LvmIJ_HSFLC7"
      }
    },
    {
      "cell_type": "markdown",
      "source": [
        "Bài 1"
      ],
      "metadata": {
        "id": "9I96vvheFVZB"
      }
    },
    {
      "cell_type": "code",
      "source": [
        "import sympy as sp\n",
        "\n",
        "x, y, z = sp.symbols('x y z')\n",
        "u = sp.Matrix([x, y, z])\n",
        "\n",
        "def g(vec):\n",
        "    return sp.Matrix([\n",
        "        vec[0] + vec[1],\n",
        "        vec[2] + 2,\n",
        "        0\n",
        "    ])\n",
        "\n",
        "zero_vec = sp.Matrix([0, 0, 0])\n",
        "g0 = g(zero_vec)\n",
        "\n",
        "print(\"g(0,0,0) =\", g0)\n",
        "\n",
        "if g0 == zero_vec:\n",
        "    print(\"Ánh xạ g có thể là ánh xạ tuyến tính (thỏa g(0) = 0)\")\n",
        "else:\n",
        "    print(\"g(0) ≠ 0 nên ánh xạ g không phải là ánh xạ tuyến tính\")\n"
      ],
      "metadata": {
        "colab": {
          "base_uri": "https://localhost:8080/"
        },
        "id": "v3FOggP5FWxJ",
        "outputId": "46d8c2a2-f2f5-439e-f231-f20c900f078b"
      },
      "execution_count": 21,
      "outputs": [
        {
          "output_type": "stream",
          "name": "stdout",
          "text": [
            "g(0,0,0) = Matrix([[0], [2], [0]])\n",
            "g(0) ≠ 0 nên ánh xạ g không phải là ánh xạ tuyến tính\n"
          ]
        }
      ]
    },
    {
      "cell_type": "markdown",
      "source": [
        "Bài 2"
      ],
      "metadata": {
        "id": "VJfvBCWcF6BA"
      }
    },
    {
      "cell_type": "code",
      "source": [
        "import numpy as np\n",
        "import matplotlib.pyplot as plt\n",
        "\n",
        "F = np.array([\n",
        "    [0, 0],\n",
        "    [1, 0],\n",
        "    [1, 1],\n",
        "    [0, 1],\n",
        "    [0, 0]\n",
        "]).T\n",
        "\n",
        "A = np.array([\n",
        "    [0, 1],\n",
        "    [1, -1]\n",
        "])\n",
        "\n",
        "F_transformed = A @ F\n",
        "\n",
        "plt.figure(figsize=(8, 6))\n",
        "plt.plot(F[0], F[1], 'b-', label='Hình gốc')\n",
        "plt.plot(F_transformed[0], F_transformed[1], 'g-', label='Hình sau biến đổi')\n",
        "plt.axhline(0, color='black', linewidth=0.5)\n",
        "plt.axvline(0, color='black', linewidth=0.5)\n",
        "plt.grid(True)\n",
        "plt.gca().set_aspect('equal')\n",
        "plt.legend()\n",
        "plt.title('Biến đổi tuyến tính với ma trận A')\n",
        "plt.xlabel('x')\n",
        "plt.ylabel('y')\n",
        "plt.show()\n"
      ],
      "metadata": {
        "colab": {
          "base_uri": "https://localhost:8080/",
          "height": 566
        },
        "id": "UdEDLhXlF78D",
        "outputId": "630f9477-13a6-4317-e080-ce72ae794d48"
      },
      "execution_count": 22,
      "outputs": [
        {
          "output_type": "display_data",
          "data": {
            "text/plain": [
              "<Figure size 800x600 with 1 Axes>"
            ],
            "image/png": "[encoded data removed]"
          },
          "metadata": {}
        }
      ]
    },
    {
      "cell_type": "markdown",
      "source": [
        "Bài 3"
      ],
      "metadata": {
        "id": "SycwyA13G3RV"
      }
    },
    {
      "cell_type": "code",
      "source": [
        "from sympy import symbols, Matrix, simplify\n",
        "\n",
        "v1, v2, u1, u2, c = symbols('v1 v2 u1 u2 c')\n",
        "\n",
        "v = Matrix([v1, v2])\n",
        "u = Matrix([u1, u2])\n",
        "\n",
        "def T(vec):\n",
        "    x, y = vec\n",
        "    return Matrix([x - y, x + 2*y])\n",
        "\n",
        "left1 = T(u + v)\n",
        "right1 = T(u) + T(v)\n",
        "\n",
        "left2 = T(c * v)\n",
        "right2 = c * T(v)\n",
        "\n",
        "print(\"T(u + v) = T(u) + T(v):\", simplify(left1 - right1) == Matrix([0, 0]))\n",
        "print(\"T(c * v) = c * T(v):\", simplify(left2 - right2) == Matrix([0, 0]))\n"
      ],
      "metadata": {
        "colab": {
          "base_uri": "https://localhost:8080/"
        },
        "id": "XZRD9_oAG7P7",
        "outputId": "f1085239-c76f-4848-90ac-48036a162991"
      },
      "execution_count": 23,
      "outputs": [
        {
          "output_type": "stream",
          "name": "stdout",
          "text": [
            "T(u + v) = T(u) + T(v): True\n",
            "T(c * v) = c * T(v): True\n"
          ]
        }
      ]
    },
    {
      "cell_type": "markdown",
      "source": [
        "Bài 4"
      ],
      "metadata": {
        "id": "4s-jd4_fG87b"
      }
    },
    {
      "cell_type": "code",
      "source": [
        "from sympy import symbols, Matrix, sympify, Eq, atan2, deg, N, init_printing\n",
        "\n",
        "init_printing()\n",
        "\n",
        "x, y = symbols('x y')\n",
        "\n",
        "A = Matrix([\n",
        "    [13, -5],\n",
        "    [-5, 13]\n",
        "])\n",
        "\n",
        "X = Matrix([x, y])\n",
        "f = sympify(-72)\n",
        "\n",
        "Q = (X.T * A * X)[0] + f\n",
        "display(Eq(Q, 0))\n",
        "\n",
        "eigenvals = A.eigenvals()\n",
        "eigenvects = A.eigenvects()\n",
        "\n",
        "λ1, λ2 = sorted(list(eigenvals.keys()))\n",
        "\n",
        "xp, yp = symbols(\"x' y'\")\n",
        "\n",
        "eq1 = Eq(λ1 * xp**2 + λ2 * yp**2, 72)\n",
        "eq2 = Eq((xp**2)/(72/λ1) + (yp**2)/(72/λ2), 1)\n",
        "\n",
        "display(eq1)\n",
        "display(eq2)\n",
        "\n",
        "a = 13\n",
        "b = -10 / 2\n",
        "c = 13\n",
        "\n",
        "theta_rad = atan2(2 * b, a - c) / 2\n",
        "theta_deg = N(deg(theta_rad))\n",
        "\n",
        "print(\"Giá trị riêng:\")\n",
        "print(\"λ1 =\", λ1)\n",
        "print(\"λ2 =\", λ2)\n",
        "\n",
        "print(\"Góc xoay (độ):\")\n",
        "print(\"θ =\", theta_deg)\n"
      ],
      "metadata": {
        "id": "VuS8sn6XHqSB",
        "outputId": "4f6d9501-9bd0-4103-a8ff-ad037127223e",
        "colab": {
          "base_uri": "https://localhost:8080/",
          "height": 184
        }
      },
      "execution_count": 28,
      "outputs": [
        {
          "output_type": "display_data",
          "data": {
            "text/plain": [
              "x⋅(13⋅x - 5⋅y) + y⋅(-5⋅x + 13⋅y) - 72 = 0"
            ],
            "text/latex": "$\\displaystyle x \\left(13 x - 5 y\\right) + y \\left(- 5 x + 13 y\\right) - 72 = 0$"
          },
          "metadata": {}
        },
        {
          "output_type": "display_data",
          "data": {
            "text/plain": [
              "    2        2     \n",
              "8⋅x'  + 18⋅y'  = 72"
            ],
            "text/latex": "$\\displaystyle 8 x'^{2} + 18 y'^{2} = 72$"
          },
          "metadata": {}
        },
        {
          "output_type": "display_data",
          "data": {
            "text/plain": [
              "  2     2    \n",
              "x'    y'     \n",
              "─── + ─── = 1\n",
              " 9     4     "
            ],
            "text/latex": "$\\displaystyle \\frac{x'^{2}}{9} + \\frac{y'^{2}}{4} = 1$"
          },
          "metadata": {}
        },
        {
          "output_type": "stream",
          "name": "stdout",
          "text": [
            "Giá trị riêng:\n",
            "λ1 = 8\n",
            "λ2 = 18\n",
            "Góc xoay (độ):\n",
            "θ = -45.0000000000000\n"
          ]
        }
      ]
    },
    {
      "cell_type": "markdown",
      "source": [
        "Bài toán: Cho phương trình ellipse sau"
      ],
      "metadata": {
        "id": "YMeIHtN4IDH5"
      }
    },
    {
      "cell_type": "code",
      "source": [
        "from sympy import symbols, Matrix, Eq, atan2, deg, N, init_printing\n",
        "from IPython.display import display\n",
        "\n",
        "init_printing()\n",
        "\n",
        "x, y = symbols('x y')\n",
        "A = Matrix([\n",
        "    [13, -5],\n",
        "    [-5, 13]\n",
        "])\n",
        "X = Matrix([x, y])\n",
        "f = -72\n",
        "\n",
        "Q = (X.T * A * X)[0] + f\n",
        "display(Eq(Q, 0))\n",
        "\n",
        "eigenvals = A.eigenvals()\n",
        "λ1, λ2 = sorted(list(eigenvals.keys()))\n",
        "\n",
        "a = 13\n",
        "b = -5\n",
        "c = 13\n",
        "theta_rad = atan2(2 * b, a - c) / 2\n",
        "theta_deg = N(deg(theta_rad))\n",
        "\n",
        "print(\"λ1 =\", λ1)\n",
        "print(\"λ2 =\", λ2)\n",
        "print(\"Góc xoay (độ):\", theta_deg)\n",
        "\n",
        "xp, yp = symbols(\"x' y'\")\n",
        "eq = Eq((xp**2)/(72/λ1) + (yp**2)/(72/λ2), 1)\n",
        "display(eq)\n"
      ],
      "metadata": {
        "id": "f_rhi2RWIEoC",
        "outputId": "eebf68d0-58d3-4c9d-c7cb-cd1cbad3bc66",
        "colab": {
          "base_uri": "https://localhost:8080/",
          "height": 128
        }
      },
      "execution_count": 31,
      "outputs": [
        {
          "output_type": "display_data",
          "data": {
            "text/plain": [
              "x⋅(13⋅x - 5⋅y) + y⋅(-5⋅x + 13⋅y) - 72 = 0"
            ],
            "text/latex": "$\\displaystyle x \\left(13 x - 5 y\\right) + y \\left(- 5 x + 13 y\\right) - 72 = 0$"
          },
          "metadata": {}
        },
        {
          "output_type": "stream",
          "name": "stdout",
          "text": [
            "λ1 = 8\n",
            "λ2 = 18\n",
            "Góc xoay (độ): -45.0000000000000\n"
          ]
        },
        {
          "output_type": "display_data",
          "data": {
            "text/plain": [
              "  2     2    \n",
              "x'    y'     \n",
              "─── + ─── = 1\n",
              " 9     4     "
            ],
            "text/latex": "$\\displaystyle \\frac{x'^{2}}{9} + \\frac{y'^{2}}{4} = 1$"
          },
          "metadata": {}
        }
      ]
    }
  ],
  "metadata": {
    "colab": {
      "name": "Chào mừng bạn đến với Colab",
      "provenance": []
    },
    "kernelspec": {
      "display_name": "Python 3",
      "name": "python3"
    }
  },
  "nbformat": 4,
  "nbformat_minor": 0
}