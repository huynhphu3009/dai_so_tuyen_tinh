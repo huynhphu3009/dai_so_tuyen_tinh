{
 "cells": [
  {
   "cell_type": "markdown",
   "id": "0f422235",
   "metadata": {},
   "source": [
    "Chương 2 : MA TRẬN VÀ HỆ PHƯƠNG TRÌNH TUYẾN\n",
    "TÍNH "
   ]
  },
  {
   "cell_type": "markdown",
   "id": "9c571a41",
   "metadata": {},
   "source": [
    "Câu 1 : Dẫn nhập - một số hàm về xử lý vector với Python $\\vec{v} = (a, b) \\Rightarrow k\\vec{v} = (ka, kb)$\n"
   ]
  },
  {
   "cell_type": "code",
   "execution_count": 1,
   "id": "028db222",
   "metadata": {},
   "outputs": [],
   "source": [
    "def scale(a,v) :\n",
    "    return [a*vi for vi in v]"
   ]
  },
  {
   "cell_type": "code",
   "execution_count": 2,
   "id": "37adf452",
   "metadata": {},
   "outputs": [
    {
     "data": {
      "text/plain": [
       "[30, 50, 70]"
      ]
     },
     "execution_count": 2,
     "metadata": {},
     "output_type": "execute_result"
    }
   ],
   "source": [
    "v = [3,5,7]\n",
    "scale(10, v)"
   ]
  },
  {
   "cell_type": "markdown",
   "id": "95130251",
   "metadata": {},
   "source": [
    "#Tổng hai vectorvector"
   ]
  },
  {
   "cell_type": "code",
   "execution_count": 3,
   "id": "157ff7da",
   "metadata": {},
   "outputs": [],
   "source": [
    "def sumvector(v, w):\n",
    "    return [vi + wi for (vi, wi) in zip(v, w)]"
   ]
  },
  {
   "cell_type": "code",
   "execution_count": 4,
   "id": "dcd576a0",
   "metadata": {},
   "outputs": [
    {
     "data": {
      "text/plain": [
       "[5, 9, 13]"
      ]
     },
     "execution_count": 4,
     "metadata": {},
     "output_type": "execute_result"
    }
   ],
   "source": [
    "w = [2, 4, 6]\n",
    "sumvector(v, w)"
   ]
  },
  {
   "cell_type": "markdown",
   "id": "27a903d8",
   "metadata": {},
   "source": [
    "#Tích vô hướng "
   ]
  },
  {
   "cell_type": "code",
   "execution_count": 5,
   "id": "99525002",
   "metadata": {},
   "outputs": [
    {
     "data": {
      "text/plain": [
       "68"
      ]
     },
     "execution_count": 5,
     "metadata": {},
     "output_type": "execute_result"
    }
   ],
   "source": [
    "def dotvector(v, w):\n",
    "    return sum([vi * wi for (vi, wi) in zip(v, w)])\n",
    "dotvector(v, w)"
   ]
  },
  {
   "cell_type": "markdown",
   "id": "179c3b7a",
   "metadata": {},
   "source": [
    "#Chiều dài vector (tổng bình phương)"
   ]
  },
  {
   "cell_type": "code",
   "execution_count": 6,
   "id": "9d7f0bf6",
   "metadata": {},
   "outputs": [
    {
     "data": {
      "text/plain": [
       "56"
      ]
     },
     "execution_count": 6,
     "metadata": {},
     "output_type": "execute_result"
    }
   ],
   "source": [
    "def lenvector(v):\n",
    "    return dotvector(v, v)\n",
    "\n",
    "lenvector(w)"
   ]
  },
  {
   "cell_type": "markdown",
   "id": "2229b5e3",
   "metadata": {},
   "source": [
    "Câu 2 : Phân loại tuyến tính với NumPy\n"
   ]
  },
  {
   "cell_type": "code",
   "execution_count": 23,
   "id": "b1dd6a04",
   "metadata": {},
   "outputs": [
    {
     "data": {
      "text/plain": [
       "array([False,  True,  True, False,  True, False])"
      ]
     },
     "execution_count": 23,
     "metadata": {},
     "output_type": "execute_result"
    }
   ],
   "source": [
    "import numpy as np\n",
    "scores = np.array([-1,1, 2, -3, 5, -4])\n",
    "scores >= 0 "
   ]
  },
  {
   "cell_type": "code",
   "execution_count": 24,
   "id": "f689d4ba",
   "metadata": {},
   "outputs": [
    {
     "data": {
      "text/plain": [
       "array([ True, False, False,  True, False,  True])"
      ]
     },
     "execution_count": 24,
     "metadata": {},
     "output_type": "execute_result"
    }
   ],
   "source": [
    "scores < 0"
   ]
  },
  {
   "cell_type": "code",
   "execution_count": 46,
   "id": "59b4c8b4",
   "metadata": {},
   "outputs": [
    {
     "data": {
      "text/plain": [
       "array(['số âm', 'số dương', 'số dương', 'số âm', 'số dương', 'số âm'],\n",
       "      dtype='<U14')"
      ]
     },
     "execution_count": 46,
     "metadata": {},
     "output_type": "execute_result"
    }
   ],
   "source": [
    "np.select([scores >= 0, scores < 0], ['số dương', 'số âm'], default='không xác định')\n"
   ]
  },
  {
   "cell_type": "markdown",
   "id": "2b395bc6",
   "metadata": {},
   "source": [
    "#Phân loại 3 loại : dương , âm bằng 0"
   ]
  },
  {
   "cell_type": "code",
   "execution_count": 82,
   "id": "bb16fdb7",
   "metadata": {},
   "outputs": [
    {
     "data": {
      "text/plain": [
       "array(['so am', 'so duong', 'so duong', 'so 0', 'so am', 'so duong',\n",
       "       'so 0', 'so am'], dtype='<U14')"
      ]
     },
     "execution_count": 82,
     "metadata": {},
     "output_type": "execute_result"
    }
   ],
   "source": [
    "scores=np.array([-1,1,2,0,-3,5,0,-4])\n",
    "np.select([scores>0,scores==0,scores<0],['so duong','so 0','so am'],default='không xác định')"
   ]
  },
  {
   "cell_type": "markdown",
   "id": "c4c74c44",
   "metadata": {},
   "source": [
    "Cau 3 : xử lý ma trận cơ bản"
   ]
  },
  {
   "cell_type": "code",
   "execution_count": null,
   "id": "6cde3fc5",
   "metadata": {},
   "outputs": [
    {
     "name": "stdout",
     "output_type": "stream",
     "text": [
      "Dap an cua D :[[3 4]\n",
      " [5 6]]\n",
      "Dap an C : [[0.90011772 0.79320647 0.77811215 0.62198641 0.86326557 0.22173539\n",
      "  0.15209681]\n",
      " [0.77615414 0.95884334 0.50432456 0.9428202  0.16251273 0.6898361\n",
      "  0.69228816]\n",
      " [0.48184792 0.95550991 0.82831731 0.36010439 0.91034093 0.24739252\n",
      "  0.00238715]\n",
      " [0.37575136 0.34662171 0.49524249 0.73776258 0.38410807 0.99925712\n",
      "  0.6398963 ]\n",
      " [0.9233242  0.90577441 0.262043   0.97399659 0.70515116 0.95470709\n",
      "  0.39844052]]\n",
      "Dap an cuar A : [[0.65225789 0.54904001]\n",
      " [0.27404427 0.73353284]]\n",
      "Dap an cua b : [[1.+5.j 0.+2.j 0.+3.j]\n",
      " [4.+0.j 5.+0.j 6.+0.j]]\n",
      "Dap an cua D : [[1.+5.j 0.+2.j 0.+3.j]\n",
      " [4.+0.j 5.+0.j 6.+0.j]]\n"
     ]
    }
   ],
   "source": [
    "1#\n",
    "import numpy as np \n",
    "from scipy import linalg, sparse"
   ]
  },
  {
   "cell_type": "code",
   "execution_count": 106,
   "id": "595650a3",
   "metadata": {},
   "outputs": [
    {
     "name": "stdout",
     "output_type": "stream",
     "text": [
      "Dap an cua D :[[3 4]\n",
      " [5 6]]\n"
     ]
    }
   ],
   "source": [
    "#2\n",
    "D = np.array ([ [3,4], [5,6] ])\n",
    "print (f'Dap an cua D :{D}') \n"
   ]
  },
  {
   "cell_type": "code",
   "execution_count": 105,
   "id": "cbac1aeb",
   "metadata": {},
   "outputs": [
    {
     "name": "stdout",
     "output_type": "stream",
     "text": [
      "Dap an C : [[0.79170868 0.05050038 0.10184954 0.88363368 0.0530631  0.84217\n",
      "  0.07093626]\n",
      " [0.36714617 0.99224741 0.16151226 0.67941869 0.73256035 0.11042878\n",
      "  0.8865753 ]\n",
      " [0.22894833 0.40551591 0.64414306 0.96212874 0.70433067 0.35597163\n",
      "  0.15721848]\n",
      " [0.2669282  0.93589426 0.14963328 0.0830995  0.24035609 0.48973198\n",
      "  0.94498435]\n",
      " [0.39566148 0.44091915 0.25298845 0.81664978 0.19115682 0.96075767\n",
      "  0.44415557]]\n"
     ]
    }
   ],
   "source": [
    "#3\n",
    "C= np.array(np.random.random((5,7)))\n",
    "print (f'Dap an C : {C}') "
   ]
  },
  {
   "cell_type": "code",
   "execution_count": 104,
   "id": "55544d12",
   "metadata": {},
   "outputs": [
    {
     "name": "stdout",
     "output_type": "stream",
     "text": [
      "Dap an cuar A : [[0.8065665  0.52350408]\n",
      " [0.46667004 0.41145656]]\n"
     ]
    }
   ],
   "source": [
    "#4\n",
    "A= np.array(np.random.random((2,2)))\n",
    "print(f'Dap an cuar A : {A}')"
   ]
  },
  {
   "cell_type": "code",
   "execution_count": 103,
   "id": "dbd363d2",
   "metadata": {},
   "outputs": [
    {
     "name": "stdout",
     "output_type": "stream",
     "text": [
      "Dap an cua b : [[1.+5.j 0.+2.j 0.+3.j]\n",
      " [4.+0.j 5.+0.j 6.+0.j]]\n",
      "Dap an cua D : [[1.+5.j 0.+2.j 0.+3.j]\n",
      " [4.+0.j 5.+0.j 6.+0.j]]\n"
     ]
    }
   ],
   "source": [
    "#5\n",
    "b = np.array([(1+5j, 2j, 3j),(4, 5,6)])\n",
    "B = np.asmatrix(b) \n",
    "print (f'Dap an cua b : {b}')\n",
    "print(f'Dap an cua D : {B}')"
   ]
  },
  {
   "cell_type": "code",
   "execution_count": 102,
   "id": "af712f46",
   "metadata": {},
   "outputs": [
    {
     "data": {
      "text/plain": [
       "array([[0.65225789, 0.27404427],\n",
       "       [0.54904001, 0.73353284]])"
      ]
     },
     "execution_count": 102,
     "metadata": {},
     "output_type": "execute_result"
    }
   ],
   "source": [
    "#6\n",
    "A.T"
   ]
  },
  {
   "cell_type": "code",
   "execution_count": 101,
   "id": "048613b7",
   "metadata": {},
   "outputs": [
    {
     "data": {
      "text/plain": [
       "array([[ 2.23643986, -1.67394682],\n",
       "       [-0.83552298,  1.98864381]])"
      ]
     },
     "execution_count": 101,
     "metadata": {},
     "output_type": "execute_result"
    }
   ],
   "source": [
    "#7\n",
    "linalg.inv(A)"
   ]
  },
  {
   "cell_type": "code",
   "execution_count": 100,
   "id": "f6ccc96e",
   "metadata": {},
   "outputs": [
    {
     "name": "stdout",
     "output_type": "stream",
     "text": [
      "[[-1  0  0]\n",
      " [ 0 -2  0]\n",
      " [ 1  5 -2]]\n"
     ]
    }
   ],
   "source": [
    "#8\n",
    "M = np.array([[-1,3,2],[0,-2,1],[1,5,-2]])\n",
    "M_lower = np.tril(M) \n",
    "print(M_lower)"
   ]
  },
  {
   "cell_type": "code",
   "execution_count": 99,
   "id": "32742caa",
   "metadata": {},
   "outputs": [
    {
     "name": "stdout",
     "output_type": "stream",
     "text": [
      "[[-1  3  2]\n",
      " [ 0 -2  1]\n",
      " [ 0  0 -2]]\n"
     ]
    }
   ],
   "source": [
    "#9 \n",
    "M = np.array([[-1,3,2],[0,-2,1],[1,5,-2]])\n",
    "M_upper = np.triu(M)\n",
    "print(M_upper) "
   ]
  },
  {
   "cell_type": "code",
   "execution_count": 108,
   "id": "d96394a3",
   "metadata": {},
   "outputs": [
    {
     "name": "stdout",
     "output_type": "stream",
     "text": [
      "[-1 -2 -2]\n",
      "[[-1  0  0]\n",
      " [ 0 -2  0]\n",
      " [ 0  0 -2]]\n"
     ]
    }
   ],
   "source": [
    "#10 \n",
    "M = np.array([[-1,3,2],[0,-2,1],[1,5,-2]])\n",
    "v_diag = np.diag(M) #vector đường chéo\n",
    "print (v_diag)\n",
    "M_diag = np.diag(v_diag)\n",
    "print (M_diag) \n"
   ]
  },
  {
   "cell_type": "markdown",
   "id": "cb562dbc",
   "metadata": {},
   "source": [
    "Cau 3.2 :"
   ]
  },
  {
   "cell_type": "code",
   "execution_count": 109,
   "id": "d7b73e9f",
   "metadata": {},
   "outputs": [
    {
     "name": "stdout",
     "output_type": "stream",
     "text": [
      "[[ 0.  1.  2.  3.  4.  5.]\n",
      " [ 6.  7.  8.  9. 10. 11.]\n",
      " [12. 13. 14. 15. 16. 17.]\n",
      " [18. 19. 20. 21. 22. 23.]\n",
      " [24. 25. 26. 27. 28. 29.]\n",
      " [30. 31. 32. 33. 34. 35.]]\n"
     ]
    }
   ],
   "source": [
    "import numpy as np\n",
    "A = np.reshape(np.arange(36.0), (6,6))\n",
    "print (A)"
   ]
  },
  {
   "cell_type": "code",
   "execution_count": 110,
   "id": "9d907b01",
   "metadata": {},
   "outputs": [
    {
     "name": "stdout",
     "output_type": "stream",
     "text": [
      "[[1. 0. 0. 0. 0. 0.]\n",
      " [0. 1. 0. 0. 0. 0.]\n",
      " [0. 0. 1. 0. 0. 0.]\n",
      " [0. 0. 0. 1. 0. 0.]\n",
      " [0. 0. 0. 0. 1. 0.]\n",
      " [0. 0. 0. 0. 0. 1.]]\n"
     ]
    }
   ],
   "source": [
    "I6 = np.identity(6)\n",
    "print (I6)"
   ]
  },
  {
   "cell_type": "code",
   "execution_count": 111,
   "id": "9d4e9f44",
   "metadata": {},
   "outputs": [
    {
     "name": "stdout",
     "output_type": "stream",
     "text": [
      "36\n"
     ]
    }
   ],
   "source": [
    "print(A.size)"
   ]
  },
  {
   "cell_type": "code",
   "execution_count": 112,
   "id": "f9a1a96f",
   "metadata": {},
   "outputs": [
    {
     "name": "stdout",
     "output_type": "stream",
     "text": [
      "[ 0.  7. 14. 21. 28. 35.]\n"
     ]
    }
   ],
   "source": [
    "print(np.matrix.diagonal(A))"
   ]
  },
  {
   "cell_type": "code",
   "execution_count": 113,
   "id": "b74f6cd4",
   "metadata": {},
   "outputs": [
    {
     "name": "stdout",
     "output_type": "stream",
     "text": [
      "[[ 1.  1.  2.  3.  4.  5.]\n",
      " [ 6.  8.  8.  9. 10. 11.]\n",
      " [12. 13. 15. 15. 16. 17.]\n",
      " [18. 19. 20. 22. 22. 23.]\n",
      " [24. 25. 26. 27. 29. 29.]\n",
      " [30. 31. 32. 33. 34. 36.]]\n"
     ]
    }
   ],
   "source": [
    "A = A + I6\n",
    "print (A)"
   ]
  },
  {
   "cell_type": "markdown",
   "id": "20d828a4",
   "metadata": {},
   "source": [
    "Tính tích (nhân) ma trận với vector (là dạng ma trận đặc biệt): "
   ]
  },
  {
   "cell_type": "code",
   "execution_count": 114,
   "id": "1d709200",
   "metadata": {},
   "outputs": [
    {
     "name": "stdout",
     "output_type": "stream",
     "text": [
      "[ 71. 198. 325. 452. 579. 706.]\n"
     ]
    }
   ],
   "source": [
    "vecB = np.array([1., 2., 3., 4., 5., 6.])\n",
    "C = A.dot(vecB)\n",
    "print (C)"
   ]
  },
  {
   "cell_type": "markdown",
   "id": "afd363dd",
   "metadata": {},
   "source": [
    "Khai báo ma trận D 2x62x6"
   ]
  },
  {
   "cell_type": "code",
   "execution_count": 115,
   "id": "648f6502",
   "metadata": {},
   "outputs": [
    {
     "name": "stdout",
     "output_type": "stream",
     "text": [
      "[[1. 2. 3. 4. 5. 6.]\n",
      " [1. 0. 1. 0. 1. 0.]]\n"
     ]
    }
   ],
   "source": [
    "D = np.array([[1., 2., 3., 4., 5., 6.], [1., 0., 1., 0., 1., 0.]])\n",
    "print (D)"
   ]
  },
  {
   "cell_type": "markdown",
   "id": "8a82d3c9",
   "metadata": {},
   "source": [
    "Tính tích ma trận A và D \n"
   ]
  },
  {
   "cell_type": "code",
   "execution_count": null,
   "id": "f2ea8b81",
   "metadata": {},
   "outputs": [
    {
     "ename": "ValueError",
     "evalue": "matmul: Input operand 1 has a mismatch in its core dimension 0, with gufunc signature (n?,k),(k,m?)->(n?,m?) (size 2 is different from 6)",
     "output_type": "error",
     "traceback": [
      "\u001b[31m---------------------------------------------------------------------------\u001b[39m",
      "\u001b[31mValueError\u001b[39m                                Traceback (most recent call last)",
      "\u001b[36mCell\u001b[39m\u001b[36m \u001b[39m\u001b[32mIn[126]\u001b[39m\u001b[32m, line 2\u001b[39m\n\u001b[32m      1\u001b[39m D = np.array([[\u001b[32m1.\u001b[39m, \u001b[32m2.\u001b[39m, \u001b[32m3.\u001b[39m, \u001b[32m4.\u001b[39m, \u001b[32m5.\u001b[39m, \u001b[32m6.\u001b[39m], [\u001b[32m1.\u001b[39m, \u001b[32m0.\u001b[39m, \u001b[32m1.\u001b[39m, \u001b[32m0.\u001b[39m, \u001b[32m1.\u001b[39m, \u001b[32m0.\u001b[39m]])\n\u001b[32m----> \u001b[39m\u001b[32m2\u001b[39m E = \u001b[43mA\u001b[49m\u001b[43m \u001b[49m\u001b[43m@\u001b[49m\u001b[43m \u001b[49m\u001b[43mD\u001b[49m\n\u001b[32m      3\u001b[39m \u001b[38;5;28mprint\u001b[39m (E)\n",
      "\u001b[31mValueError\u001b[39m: matmul: Input operand 1 has a mismatch in its core dimension 0, with gufunc signature (n?,k),(k,m?)->(n?,m?) (size 2 is different from 6)"
     ]
    }
   ],
   "source": [
    "D = np.array([[1., 2., 3., 4., 5., 6.], [1., 0., 1., 0., 1., 0.]])\n",
    "E = A.dot(D)\n",
    "print (E)"
   ]
  },
  {
   "cell_type": "markdown",
   "id": "0cd55677",
   "metadata": {},
   "source": [
    "Xây dựng ma trận F kích thước 6 x2 : "
   ]
  },
  {
   "cell_type": "code",
   "execution_count": 119,
   "id": "c1ad2c8a",
   "metadata": {},
   "outputs": [
    {
     "name": "stdout",
     "output_type": "stream",
     "text": [
      "[[1. 1.]\n",
      " [2. 0.]\n",
      " [3. 1.]\n",
      " [4. 0.]\n",
      " [5. 1.]\n",
      " [6. 0.]]\n"
     ]
    }
   ],
   "source": [
    "F = np.array([[1., 1.], [2., 0.], [3., 1.], [4., 0], [5., 1], [6., 0.]])\n",
    "G = A.dot(F)\n",
    "print (F)"
   ]
  },
  {
   "cell_type": "code",
   "execution_count": 120,
   "id": "2aef1f01",
   "metadata": {},
   "outputs": [
    {
     "name": "stdout",
     "output_type": "stream",
     "text": [
      "[[ 71.   7.]\n",
      " [198.  24.]\n",
      " [325.  43.]\n",
      " [452.  60.]\n",
      " [579.  79.]\n",
      " [706.  96.]]\n"
     ]
    }
   ],
   "source": [
    "print (G)"
   ]
  },
  {
   "cell_type": "markdown",
   "id": "1765b7bd",
   "metadata": {},
   "source": [
    "Tính ma trận nghịch đảo : \n"
   ]
  },
  {
   "cell_type": "code",
   "execution_count": 121,
   "id": "cee07024",
   "metadata": {},
   "outputs": [
    {
     "name": "stdout",
     "output_type": "stream",
     "text": [
      "[[ 0.37022901 -0.45610687 -0.28244275 -0.10877863  0.0648855   0.23854962]\n",
      " [-0.44656489  0.65839695 -0.23664122 -0.13167939 -0.02671756  0.07824427]\n",
      " [-0.26335878 -0.22709924  0.80916031 -0.15458015 -0.11832061 -0.08206107]\n",
      " [-0.08015267 -0.11259542 -0.14503817  0.82251908 -0.20992366 -0.24236641]\n",
      " [ 0.10305344  0.0019084  -0.09923664 -0.20038168  0.69847328 -0.40267176]\n",
      " [ 0.28625954  0.11641221 -0.05343511 -0.22328244 -0.39312977  0.4370229 ]]\n"
     ]
    }
   ],
   "source": [
    "print(np.linalg.inv(A))"
   ]
  },
  {
   "cell_type": "code",
   "execution_count": 122,
   "id": "1761b545",
   "metadata": {},
   "outputs": [
    {
     "name": "stdout",
     "output_type": "stream",
     "text": [
      "[[ 1.  1.  2.  3.  4.  5.]\n",
      " [ 6.  8.  8.  9. 10. 11.]\n",
      " [12. 13. 15. 15. 16. 17.]\n",
      " [18. 19. 20. 22. 22. 23.]\n",
      " [24. 25. 26. 27. 29. 29.]\n",
      " [30. 31. 32. 33. 34. 36.]]\n"
     ]
    }
   ],
   "source": [
    "print(np.linalg.inv(np.linalg.inv(A)))"
   ]
  },
  {
   "cell_type": "markdown",
   "id": "90752cab",
   "metadata": {},
   "source": [
    "Câu 4 : Phép nhân ma trận và biến đổ"
   ]
  },
  {
   "cell_type": "code",
   "execution_count": 60,
   "id": "3164f302",
   "metadata": {},
   "outputs": [
    {
     "name": "stdout",
     "output_type": "stream",
     "text": [
      "[1 1]\n",
      "[2 1]\n",
      "[3 2]\n",
      "[5 3]\n",
      "[8 5]\n",
      "[13  8]\n",
      "[21 13]\n",
      "[34 21]\n",
      "[55 34]\n",
      "[89 55]\n"
     ]
    }
   ],
   "source": [
    "import numpy as np\n",
    "A = np.array( [ [1,1], [1,0] ] )\n",
    "b = np.array([1, 0])\n",
    "n = 10 \n",
    "for i in range(n):\n",
    "    b = A.dot(b)\n",
    "    print(b) \n"
   ]
  },
  {
   "cell_type": "markdown",
   "id": "c0a2f608",
   "metadata": {},
   "source": [
    "Câu 5 : Cơ bản về hệ phương trình tuyến tính và ứng dụng minh họa "
   ]
  },
  {
   "cell_type": "code",
   "execution_count": 61,
   "id": "ca77fd94",
   "metadata": {},
   "outputs": [
    {
     "data": {
      "text/plain": [
       "{x1: x4 + 160, x2: x4 - 80, x3: x4 + 520}"
      ]
     },
     "execution_count": 61,
     "metadata": {},
     "output_type": "execute_result"
    }
   ],
   "source": [
    "import sympy as sp\n",
    "from sympy import Symbol\n",
    "x1 = Symbol('x1')\n",
    "x2 = Symbol('x2')\n",
    "x3 = Symbol('x3')\n",
    "x4 = Symbol('x4')\n",
    "from sympy import solve\n",
    "pt1 = x4+610-450-x1\n",
    "pt2 = x1+400-x2-640\n",
    "pt3 = x2+600-x3\n",
    "pt4 = x3-x4-520\n",
    "nghiem = sp.solve((pt1, pt2, pt3, pt4))\n",
    "nghiem "
   ]
  },
  {
   "cell_type": "markdown",
   "id": "0b20b004",
   "metadata": {},
   "source": [
    "Bài tập : sinh viên thử bằng phương pháp nhân ma trận :"
   ]
  },
  {
   "cell_type": "code",
   "execution_count": 76,
   "id": "43ffb243",
   "metadata": {},
   "outputs": [
    {
     "name": "stdout",
     "output_type": "stream",
     "text": [
      "0.0\n"
     ]
    }
   ],
   "source": [
    "import numpy as np\n",
    "A = np.array([[-1,0,0,1],[1,-1,0,0],[0,1,-1,0],[0,0,1,-1]])\n",
    "#Và tính ma trận nghịch đảo:\n",
    "A_nghichdao = np.linalg.det(A)\n",
    "print(A_nghichdao )"
   ]
  },
  {
   "cell_type": "markdown",
   "id": "4440626d",
   "metadata": {},
   "source": [
    "Bài tập chương 2 "
   ]
  },
  {
   "cell_type": "markdown",
   "id": "472ac060",
   "metadata": {},
   "source": [
    "Câu 1 : Hãy sử dụng numpy để giải các chương trình sau :"
   ]
  },
  {
   "cell_type": "markdown",
   "id": "d0adfd69",
   "metadata": {},
   "source": [
    "Vấn đề 1 : Tìm điểm giao điểm giữa hai đường thẳng trong R^2 "
   ]
  },
  {
   "cell_type": "code",
   "execution_count": 74,
   "id": "fc264d63",
   "metadata": {},
   "outputs": [
    {
     "name": "stdout",
     "output_type": "stream",
     "text": [
      "Điểm giao trong R^2: [ 6. -2.]\n"
     ]
    }
   ],
   "source": [
    "import numpy as np\n",
    "A = np.array([[0, 1], [2, 3]])\n",
    "b = np.array([-2, 6])\n",
    "solution_bai1 = np.linalg.solve(A, b)\n",
    "print(\"Điểm giao trong R^2:\", solution_bai1)"
   ]
  },
  {
   "cell_type": "markdown",
   "id": "68c3c902",
   "metadata": {},
   "source": [
    "Vấn đề 2 (PROBLEM 2):Tìm giao điểm giữa ba mặt phẳng trong R^33"
   ]
  },
  {
   "cell_type": "code",
   "execution_count": 77,
   "id": "8593c8c6",
   "metadata": {},
   "outputs": [
    {
     "name": "stdout",
     "output_type": "stream",
     "text": [
      "Điểm giao trong R^3: [-1.  1.  6.]\n"
     ]
    }
   ],
   "source": [
    "A = np.array([[1, -1, 0], [2, -1, 0], [1, 1, 1]])\n",
    "b = np.array([-2, -3, 6])\n",
    "solution_bai2 = np.linalg.solve(A, b)\n",
    "print(\"Điểm giao trong R^3:\", solution_bai2)"
   ]
  },
  {
   "cell_type": "markdown",
   "id": "60eb322a",
   "metadata": {},
   "source": [
    "Vấn đề 3 (Problem 3) : Tìm các hệ số đa thức để đa thức thỏa các nghiệmnghiệm"
   ]
  },
  {
   "cell_type": "code",
   "execution_count": 78,
   "id": "f83377c4",
   "metadata": {},
   "outputs": [
    {
     "name": "stdout",
     "output_type": "stream",
     "text": [
      "Hệ số đa thức bậc 2: a = 1.0000000000000004 , b = -4.000000000000001 , c = 7.000000000000001\n"
     ]
    }
   ],
   "source": [
    "A = np.array([[1**2, 1, 1], [2**2, 2, 1], [3**2, 3, 1]])\n",
    "b = np.array([4, 3, 4])\n",
    "coefficients = np.linalg.solve(A, b)\n",
    "a, b_coeff, c = coefficients\n",
    "print(\"Hệ số đa thức bậc 2: a =\", a, \", b =\", b_coeff, \", c =\", c)"
   ]
  },
  {
   "cell_type": "markdown",
   "id": "564d171b",
   "metadata": {},
   "source": [
    "Vấn đề 4 (problem 4) : Tìm các hệ đa thức khi phân rã để tính tích phânphân"
   ]
  },
  {
   "cell_type": "code",
   "execution_count": 79,
   "id": "61c5b642",
   "metadata": {},
   "outputs": [
    {
     "name": "stdout",
     "output_type": "stream",
     "text": [
      "Kết quả tích phân: -0.5203227371848946\n"
     ]
    }
   ],
   "source": [
    "from scipy.integrate import quad\n",
    "\n",
    "def integrand(x):\n",
    "    return x * (x - 3) / (x**2 + 2)\n",
    "\n",
    "result, error = quad(integrand, 1, 2)\n",
    "print(\"Kết quả tích phân:\", result)"
   ]
  },
  {
   "cell_type": "markdown",
   "id": "2bcdde6f",
   "metadata": {},
   "source": [
    "Câu 2 : Hãy viết các câu lệnh của symoy để giải các phương trình ở Câu 1 \n"
   ]
  },
  {
   "cell_type": "code",
   "execution_count": 80,
   "id": "147af179",
   "metadata": {},
   "outputs": [
    {
     "name": "stdout",
     "output_type": "stream",
     "text": [
      "Nghiệm hệ phương trình trong R^2: {x: 6/5, y: 6/5}\n"
     ]
    }
   ],
   "source": [
    "import numpy as np\n",
    "from scipy.special import comb\n",
    "from scipy.integrate import quad\n",
    "import sympy as sp\n",
    "\n",
    "x, y = sp.symbols('x y')\n",
    "equ1 = sp.Eq(x, y)\n",
    "equ2 = sp.Eq(2*x + 3*y, 6)\n",
    "solution = sp.solve([equ1, equ2], (x, y))\n",
    "print(\"Nghiệm hệ phương trình trong R^2:\", solution)"
   ]
  },
  {
   "cell_type": "markdown",
   "id": "15a88941",
   "metadata": {},
   "source": [
    " **Câu 3:** Tính lũy thừa bậc $k$ của ma trận \n",
    "$$\n",
    "F_k = \\begin{pmatrix} 1 & 1 \\\\ 1 & 0 \\end{pmatrix}^k\n",
    "$$\n",
    "và chứng minh ma trận $F_k$ chứa 3 phần tử của $Fibo_{k+1}, Fibo_k$ và $Fibo_{k-1}$ của dãy Fibonacci (bắt đầu bằng 0 từ phần tử 0).\n"
   ]
  },
  {
   "cell_type": "code",
   "execution_count": 81,
   "id": "c1ed1a41",
   "metadata": {},
   "outputs": [
    {
     "name": "stdout",
     "output_type": "stream",
     "text": [
      "Ma trận F_3^{3}:\n",
      "[[3 2]\n",
      " [2 1]]\n",
      "Các phần tử của dãy Fibonacci bắt đầu từ 0 đến index 4 : [0, 1, 1, 2]\n",
      "Tổng các phần tử của dãy Fibonacci đến index 4 : 4\n"
     ]
    }
   ],
   "source": [
    "import numpy as np\n",
    "\n",
    "def fibonacci(n):\n",
    "    fib = [0, 1]\n",
    "    for i in range(2, n):\n",
    "        fib.append(fib[-1] + fib[-2])\n",
    "    return fib\n",
    "k = 3  \n",
    "F_k = np.array([[1, 1], [1, 0]])  \n",
    "F_k_power = np.linalg.matrix_power(F_k, k)\n",
    "print(f\"Ma trận F_{k}^{{{k}}}:\\n{F_k_power}\")\n",
    "fib_sequence = fibonacci(k+1)  \n",
    "print(\"Các phần tử của dãy Fibonacci bắt đầu từ 0 đến index\", k+1, \":\", fib_sequence)\n",
    "sum_fib = sum(fib_sequence)\n",
    "print(\"Tổng các phần tử của dãy Fibonacci đến index\", k+1, \":\", sum_fib)"
   ]
  }
 ],
 "metadata": {
  "kernelspec": {
   "display_name": "Python 3",
   "language": "python",
   "name": "python3"
  },
  "language_info": {
   "codemirror_mode": {
    "name": "ipython",
    "version": 3
   },
   "file_extension": ".py",
   "mimetype": "text/x-python",
   "name": "python",
   "nbconvert_exporter": "python",
   "pygments_lexer": "ipython3",
   "version": "3.12.2"
  }
 },
 "nbformat": 4,
 "nbformat_minor": 5
}
