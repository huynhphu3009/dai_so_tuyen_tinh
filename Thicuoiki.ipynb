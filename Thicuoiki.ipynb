{
  "cells": [
    {
      "cell_type": "markdown",
      "source": [
        "câu 1"
      ],
      "metadata": {
        "id": "jv0XaumpF6fC"
      }
    },
    {
      "cell_type": "code",
      "source": [
        "import numpy as np\n",
        "\n",
        "A = np.array([-2, 1, 4])\n",
        "B = np.array([-1, 5, 0])\n",
        "C = np.array([[2, -1, 3],\n",
        "              [1, 4, -2],\n",
        "              [0, 2, 5]])\n",
        "\n",
        "tong_AB = A + B\n",
        "tich_2A_3B = 2 * A + 3 * B\n",
        "print(\"Tổng vector A + B:\", tong_AB)\n",
        "print(\"Tích số 2A + 3B:\", tich_2A_3B)\n",
        "\n",
        "tich_vo_huong = np.dot(A, B)\n",
        "goc = np.arccos(tich_vo_huong / (np.linalg.norm(A) * np.linalg.norm(B))) * 180 / np.pi\n",
        "print(\"Tích vô hướng A và B:\", tich_vo_huong)\n",
        "print(\"Góc giữa A và B (độ):\", goc)\n",
        "\n",
        "C_transpose = C.T\n",
        "tich_CCt = np.dot(C, C_transpose)\n",
        "print(\"Tích ma trận C * C^T:\\n\", tich_CCt)"
      ],
      "metadata": {
        "id": "fp7t2ApBF9PK",
        "outputId": "c3de4869-adab-416d-944d-6b21d9851f80",
        "colab": {
          "base_uri": "https://localhost:8080/"
        }
      },
      "execution_count": 2,
      "outputs": [
        {
          "output_type": "stream",
          "name": "stdout",
          "text": [
            "Tổng vector A + B: [-3  6  4]\n",
            "Tích số 2A + 3B: [-7 17  8]\n",
            "Tích vô hướng A và B: 7\n",
            "Góc giữa A và B (độ): 72.56808102284828\n",
            "Tích ma trận C * C^T:\n",
            " [[14 -8 13]\n",
            " [-8 21 -2]\n",
            " [13 -2 29]]\n"
          ]
        }
      ]
    },
    {
      "cell_type": "markdown",
      "source": [
        "câu 2"
      ],
      "metadata": {
        "id": "QOz3WoZ7IJbb"
      }
    },
    {
      "cell_type": "code",
      "source": [
        "import numpy as np\n",
        "\n",
        "M = np.array([[2, -1, 3, 0],\n",
        "              [1, 4, -2, 5],\n",
        "              [0, 2, 6, -3],\n",
        "              [-1, 0, 1, 4]])\n",
        "\n",
        "N = np.array([[1, 3, -2, 0],\n",
        "              [4, -1, 5, 2],\n",
        "              [0, 2, 3, -1],\n",
        "              [-3, 1, 0, 4]])\n",
        "\n",
        "tich_MN = np.dot(M, N)\n",
        "print(\"Tích ma trận M x N:\\n\", tich_MN)\n",
        "\n",
        "det_M = np.linalg.det(M)\n",
        "print(\"Định thức của ma trận M:\", det_M)\n",
        "\n",
        "hang_N = np.linalg.matrix_rank(N)\n",
        "print(\"Hạng của ma trận N:\", hang_N)"
      ],
      "metadata": {
        "id": "-tPnWtFdIKmb",
        "outputId": "c8782e0e-83d7-422e-d095-33596efc85b7",
        "colab": {
          "base_uri": "https://localhost:8080/"
        }
      },
      "execution_count": 3,
      "outputs": [
        {
          "output_type": "stream",
          "name": "stdout",
          "text": [
            "Tích ma trận M x N:\n",
            " [[ -2  13   0  -5]\n",
            " [  2   0  12  30]\n",
            " [ 17   7  28 -14]\n",
            " [-13   3   5  15]]\n",
            "Định thức của ma trận M: 409.00000000000017\n",
            "Hạng của ma trận N: 4\n"
          ]
        }
      ]
    },
    {
      "cell_type": "markdown",
      "source": [
        "câu 3"
      ],
      "metadata": {
        "id": "J10U3KV6IfCH"
      }
    },
    {
      "cell_type": "code",
      "source": [
        "import numpy as np\n",
        "\n",
        "P = np.array([[3, -1, 0, 2],\n",
        "              [1, 4, -2, 0],\n",
        "              [0, 1, 5, -1],\n",
        "              [2, 0, 1, 3]])\n",
        "\n",
        "b = np.array([6, 8, 3, 7])\n",
        "\n",
        "P_inv = np.linalg.inv(P)\n",
        "print(\"Ma trận nghịch đảo của P:\\n\", P_inv)\n",
        "\n",
        "x = np.linalg.solve(P, b)\n",
        "print(\"Nghiệm của hệ phương trình [x, y, z, w]:\", x)\n",
        "\n",
        "kiem_tra = np.dot(P, x)\n",
        "print(\"Kiểm tra P * x:\\n\", kiem_tra)\n",
        "print(\"Vector hạng số b:\", b)"
      ],
      "metadata": {
        "id": "nUmk9gSqIgJI",
        "outputId": "46d129f2-507d-4da4-ee32-8dc53d12942a",
        "colab": {
          "base_uri": "https://localhost:8080/"
        }
      },
      "execution_count": 4,
      "outputs": [
        {
          "output_type": "stream",
          "name": "stdout",
          "text": [
            "Ma trận nghịch đảo của P:\n",
            " [[ 0.5         0.1         0.1        -0.3       ]\n",
            " [-0.14285714  0.2         0.05714286  0.11428571]\n",
            " [-0.03571429 -0.05        0.16428571  0.07857143]\n",
            " [-0.32142857 -0.05       -0.12142857  0.50714286]]\n",
            "Nghiệm của hệ phương trình [x, y, z, w]: [2.         1.71428571 0.42857143 0.85714286]\n",
            "Kiểm tra P * x:\n",
            " [6. 8. 3. 7.]\n",
            "Vector hạng số b: [6 8 3 7]\n"
          ]
        }
      ]
    },
    {
      "cell_type": "markdown",
      "source": [
        "câu 4"
      ],
      "metadata": {
        "id": "bsGP_z9FIk50"
      }
    },
    {
      "cell_type": "code",
      "source": [
        "import numpy as np\n",
        "\n",
        "Q = np.array([[5, -2, 1],\n",
        "              [0, 3, -1],\n",
        "              [2, 0, 4]])\n",
        "\n",
        "gia_tri_rieng, vector_rieng = np.linalg.eig(Q)\n",
        "print(\"Các giá trị riêng của ma trận Q:\", gia_tri_rieng)\n",
        "\n",
        "print(\"Các vector riêng tương ứng:\\n\", vector_rieng)\n",
        "\n",
        "for i in range(vector_rieng.shape[1]):\n",
        "    v = vector_rieng[:, i]\n",
        "    chuan_hoa = v / np.linalg.norm(v)\n",
        "    print(f\"Vector riêng chuẩn hóa {i+1}:\", chuan_hoa)"
      ],
      "metadata": {
        "id": "t4pLC-tsIl9F",
        "outputId": "02116432-34de-4011-8cb7-b4cfd2e857e1",
        "colab": {
          "base_uri": "https://localhost:8080/"
        }
      },
      "execution_count": 5,
      "outputs": [
        {
          "output_type": "stream",
          "name": "stdout",
          "text": [
            "Các giá trị riêng của ma trận Q: [6.3553014+0.j         2.8223493+1.07730381j 2.8223493-1.07730381j]\n",
            "Các vector riêng tương ứng:\n",
            " [[ 0.74846013+0.j         -0.37423006+0.34234215j -0.37423006-0.34234215j]\n",
            " [-0.18941773+0.j          0.09470887+0.57433055j  0.09470887-0.57433055j]\n",
            " [ 0.63555359+0.j          0.63555359+0.j          0.63555359-0.j        ]]\n",
            "Vector riêng chuẩn hóa 1: [ 0.74846013+0.j -0.18941773+0.j  0.63555359+0.j]\n",
            "Vector riêng chuẩn hóa 2: [-0.37423006+0.34234215j  0.09470887+0.57433055j  0.63555359+0.j        ]\n",
            "Vector riêng chuẩn hóa 3: [-0.37423006-0.34234215j  0.09470887-0.57433055j  0.63555359-0.j        ]\n"
          ]
        }
      ]
    },
    {
      "cell_type": "markdown",
      "source": [
        "câu 5"
      ],
      "metadata": {
        "id": "CfTS8PBrI0a3"
      }
    },
    {
      "cell_type": "code",
      "source": [
        "import numpy as np\n",
        "\n",
        "R = np.array([[4, -1, 2],\n",
        "              [1, 3, -2],\n",
        "              [0, 2, 5]])\n",
        "\n",
        "b = np.array([12, 5, 9])\n",
        "\n",
        "x = np.linalg.solve(R, b)\n",
        "print(\"Nghiệm của hệ phương trình R * x = b:\", x)\n",
        "\n",
        "det_R = np.linalg.det(R)\n",
        "if abs(det_R) < 1e-10:\n",
        "    print(\"Ma trận R không khả nghịch vì định thức gần 0.\")\n",
        "else:\n",
        "    R_inv = np.linalg.inv(R)\n",
        "    x_inv = np.dot(R_inv, b)\n",
        "    print(\"Ma trận nghịch đảo của R:\\n\", R_inv)\n",
        "    print(\"Nghiệm từ ma trận nghịch đảo:\", x_inv)\n",
        "\n",
        "chuẩn_frobenius = np.sqrt(np.sum(R ** 2))\n",
        "print(\"Chuẩn Frobenius của ma trận R:\", chuẩn_frobenius)"
      ],
      "metadata": {
        "id": "LU66i-tXI2MT",
        "outputId": "49a2fd2c-fcee-47d8-acbb-0b8844286876",
        "colab": {
          "base_uri": "https://localhost:8080/"
        }
      },
      "execution_count": 6,
      "outputs": [
        {
          "output_type": "stream",
          "name": "stdout",
          "text": [
            "Nghiệm của hệ phương trình R * x = b: [2.78823529 1.52941176 1.18823529]\n",
            "Ma trận nghịch đảo của R:\n",
            " [[ 0.22352941  0.10588235 -0.04705882]\n",
            " [-0.05882353  0.23529412  0.11764706]\n",
            " [ 0.02352941 -0.09411765  0.15294118]]\n",
            "Nghiệm từ ma trận nghịch đảo: [2.78823529 1.52941176 1.18823529]\n",
            "Chuẩn Frobenius của ma trận R: 8.0\n"
          ]
        }
      ]
    }
  ],
  "metadata": {
    "colab": {
      "name": "Chào mừng bạn đến với Colab",
      "provenance": []
    },
    "kernelspec": {
      "display_name": "Python 3",
      "name": "python3"
    }
  },
  "nbformat": 4,
  "nbformat_minor": 0
}
