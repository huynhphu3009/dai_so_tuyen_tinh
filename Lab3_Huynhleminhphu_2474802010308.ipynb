{
 "cells": [
  {
   "cell_type": "markdown",
   "id": "aa597668",
   "metadata": {},
   "source": [
    "Chương 3 : Ma trận và hệ phương trình tuyến tính"
   ]
  },
  {
   "cell_type": "markdown",
   "id": "df32f4c8",
   "metadata": {},
   "source": [
    "1.1 Một số phép xử lý ma trận của NumPy và Scipy\n"
   ]
  },
  {
   "cell_type": "markdown",
   "id": "0d9d2dfd",
   "metadata": {},
   "source": [
    "    Khởi tạo ma trận:\n",
    "Khai báo thêm thư viện scipylinalg và một số các vector khởi tạo:"
   ]
  },
  {
   "cell_type": "code",
   "execution_count": 1,
   "id": "cfcd7fb5",
   "metadata": {},
   "outputs": [],
   "source": [
    "from scipy import linalg\n",
    "import numpy as np"
   ]
  },
  {
   "cell_type": "code",
   "execution_count": null,
   "id": "8c11da90",
   "metadata": {},
   "outputs": [
    {
     "name": "stdout",
     "output_type": "stream",
     "text": [
      "[1 2 3] [[1.+9.j 0.+2.j 0.+3.j]\n",
      " [0.+4.j 0.+5.j 0.+6.j]] [[[ 0.5  1.5 10. ]\n",
      "  [ 3.   2.   1. ]]\n",
      "\n",
      " [[ 6.   5.   4. ]\n",
      "  [ 7.   8.   9. ]]]\n"
     ]
    }
   ],
   "source": [
    "a = np.array([1, 2, 3])\n",
    "b = np.array([(1+9j, 2j, 3j), (4j, 5j, 6j)]) # số phức\n",
    "c = np.array([[ (0.5, 1.5, 10), (3,2,1) ] , [(6,5,4), (7,8,9)]]) # ma trận số thực \n",
    "print ( a,b,c)"
   ]
  },
  {
   "cell_type": "markdown",
   "id": "c71b7560",
   "metadata": {},
   "source": [
    "Các kiểu khai báo và khởi tạo ma trận: "
   ]
  },
  {
   "cell_type": "code",
   "execution_count": 13,
   "id": "7cb6d815",
   "metadata": {},
   "outputs": [
    {
     "name": "stdout",
     "output_type": "stream",
     "text": [
      "[[0.16771902 0.54181111]\n",
      " [0.84160253 0.13095604]]\n",
      "[[1.+9.j 0.+2.j 0.+3.j]\n",
      " [0.+4.j 0.+5.j 0.+6.j]]\n",
      "[[0.15676216 0.15058143 0.75996739 0.71450748 0.01534396]\n",
      " [0.94966854 0.77470828 0.43217144 0.20368248 0.54983419]\n",
      " [0.08000753 0.49253074 0.87786496 0.25478932 0.05010402]\n",
      " [0.05892352 0.59826367 0.64427997 0.61588085 0.89535855]\n",
      " [0.37542202 0.51483248 0.43834875 0.67838138 0.40524934]\n",
      " [0.97609086 0.05423416 0.9303297  0.05985192 0.91878085]\n",
      " [0.7341575  0.65265783 0.8518733  0.17815017 0.03786143]\n",
      " [0.5108343  0.57341781 0.83969025 0.22905101 0.53085168]\n",
      " [0.58658584 0.6276927  0.77916842 0.78868789 0.25668727]\n",
      " [0.66338469 0.85224629 0.78693251 0.73189434 0.94198746]]\n",
      "[[4 3]\n",
      " [2 6]]\n",
      "[[0. 1. 0.]\n",
      " [0. 0. 1.]\n",
      " [0. 0. 0.]]\n"
     ]
    }
   ],
   "source": [
    "A = np.matrix(np.random.random( (2,2) ) )\n",
    "B = np.asmatrix(b) # Chuyển b thành dạng ma trận\n",
    "C = np.asmatrix(np.random.random( (10,5) ) )\n",
    "D = np.asmatrix([ [4, 3], [2, 6] ])\n",
    "F = np.eye(3, k=1) # tạo ma trận đường chéo. 3 là ma trận 3x3, k=1 là đường chéo nằm phía trên đường chéo chính (k = 0). \n",
    "print(A)\n",
    "print(B)\n",
    "print(C)\n",
    "print(D)\n",
    "print(F)"
   ]
  },
  {
   "cell_type": "code",
   "execution_count": 15,
   "id": "e760d5a6",
   "metadata": {},
   "outputs": [
    {
     "name": "stdout",
     "output_type": "stream",
     "text": [
      "[[1. 0. 0.]\n",
      " [0. 1. 0.]\n",
      " [0. 0. 1.]]\n"
     ]
    }
   ],
   "source": [
    "F = np.eye(3, k=0)\n",
    "print(F)"
   ]
  },
  {
   "cell_type": "code",
   "execution_count": 17,
   "id": "696d3c4c",
   "metadata": {},
   "outputs": [
    {
     "name": "stdout",
     "output_type": "stream",
     "text": [
      "[[0. 0. 0.]\n",
      " [1. 0. 0.]\n",
      " [0. 1. 0.]]\n"
     ]
    }
   ],
   "source": [
    "F = np.eye(3, k=-1)\n",
    "print(F)"
   ]
  },
  {
   "cell_type": "markdown",
   "id": "bfc18ac2",
   "metadata": {},
   "source": [
    "Các phép xử lý đơn giản\n"
   ]
  },
  {
   "cell_type": "markdown",
   "id": "28f7516e",
   "metadata": {},
   "source": [
    "Xem hạng ma trận: "
   ]
  },
  {
   "cell_type": "code",
   "execution_count": 19,
   "id": "0edc4227",
   "metadata": {},
   "outputs": [
    {
     "name": "stdout",
     "output_type": "stream",
     "text": [
      "[[0.15676216 0.15058143 0.75996739 0.71450748 0.01534396]\n",
      " [0.94966854 0.77470828 0.43217144 0.20368248 0.54983419]\n",
      " [0.08000753 0.49253074 0.87786496 0.25478932 0.05010402]\n",
      " [0.05892352 0.59826367 0.64427997 0.61588085 0.89535855]\n",
      " [0.37542202 0.51483248 0.43834875 0.67838138 0.40524934]\n",
      " [0.97609086 0.05423416 0.9303297  0.05985192 0.91878085]\n",
      " [0.7341575  0.65265783 0.8518733  0.17815017 0.03786143]\n",
      " [0.5108343  0.57341781 0.83969025 0.22905101 0.53085168]\n",
      " [0.58658584 0.6276927  0.77916842 0.78868789 0.25668727]\n",
      " [0.66338469 0.85224629 0.78693251 0.73189434 0.94198746]]\n"
     ]
    }
   ],
   "source": [
    "np.linalg.matrix_rank(C)\n",
    "print(C)"
   ]
  },
  {
   "cell_type": "code",
   "execution_count": 20,
   "id": "3a8187ab",
   "metadata": {},
   "outputs": [
    {
     "data": {
      "text/plain": [
       "matrix([[-0.30172411,  1.24833854],\n",
       "        [ 1.93906114, -0.38642639]])"
      ]
     },
     "execution_count": 20,
     "metadata": {},
     "output_type": "execute_result"
    }
   ],
   "source": [
    "A.I "
   ]
  },
  {
   "cell_type": "code",
   "execution_count": 21,
   "id": "d83ec44f",
   "metadata": {},
   "outputs": [
    {
     "data": {
      "text/plain": [
       "array([[-0.30172411,  1.24833854],\n",
       "       [ 1.93906114, -0.38642639]])"
      ]
     },
     "execution_count": 21,
     "metadata": {},
     "output_type": "execute_result"
    }
   ],
   "source": [
    "linalg.inv(A)"
   ]
  },
  {
   "cell_type": "markdown",
   "id": "03b77488",
   "metadata": {},
   "source": [
    "Định thức ma trận: "
   ]
  },
  {
   "cell_type": "code",
   "execution_count": 23,
   "id": "89364c55",
   "metadata": {},
   "outputs": [
    {
     "data": {
      "text/plain": [
       "np.float64(-0.434025780892633)"
      ]
     },
     "execution_count": 23,
     "metadata": {},
     "output_type": "execute_result"
    }
   ],
   "source": [
    "linalg.det(A)"
   ]
  },
  {
   "cell_type": "markdown",
   "id": "a354a4a6",
   "metadata": {},
   "source": [
    "Chuyển đổi ma trận:"
   ]
  },
  {
   "cell_type": "code",
   "execution_count": 24,
   "id": "4af66c71",
   "metadata": {},
   "outputs": [
    {
     "data": {
      "text/plain": [
       "matrix([[0.16771902, 0.84160253],\n",
       "        [0.54181111, 0.13095604]])"
      ]
     },
     "execution_count": 24,
     "metadata": {},
     "output_type": "execute_result"
    }
   ],
   "source": [
    "A.T"
   ]
  },
  {
   "cell_type": "code",
   "execution_count": 25,
   "id": "1f6d5fe0",
   "metadata": {},
   "outputs": [
    {
     "data": {
      "text/plain": [
       "matrix([[0.16771902, 0.84160253],\n",
       "        [0.54181111, 0.13095604]])"
      ]
     },
     "execution_count": 25,
     "metadata": {},
     "output_type": "execute_result"
    }
   ],
   "source": [
    "A.H"
   ]
  },
  {
   "cell_type": "markdown",
   "id": "44ea6c0e",
   "metadata": {},
   "source": [
    "Giải các loại phương trình tuyến tính: "
   ]
  },
  {
   "cell_type": "code",
   "execution_count": 27,
   "id": "f96b0f51",
   "metadata": {},
   "outputs": [
    {
     "data": {
      "text/plain": [
       "array([[-0.30172411 +2.27783715j,  0.         +5.63824449j,\n",
       "         0.         +6.58485892j],\n",
       "       [ 1.93906114+15.9058447j ,  0.         +1.94599031j,\n",
       "         0.         +3.49862506j]])"
      ]
     },
     "execution_count": 27,
     "metadata": {},
     "output_type": "execute_result"
    }
   ],
   "source": [
    "linalg.solve(A, b)"
   ]
  },
  {
   "cell_type": "code",
   "execution_count": 36,
   "id": "cb9a2bf1",
   "metadata": {},
   "outputs": [
    {
     "name": "stdout",
     "output_type": "stream",
     "text": [
      "[[1]\n",
      " [2]\n",
      " [3]]\n"
     ]
    }
   ],
   "source": [
    "E = np.asmatrix(a).T\n",
    "print(E)"
   ]
  },
  {
   "cell_type": "code",
   "execution_count": 32,
   "id": "5d93151b",
   "metadata": {},
   "outputs": [
    {
     "data": {
      "text/plain": [
       "(array([[2.],\n",
       "        [3.],\n",
       "        [0.]]),\n",
       " array([], dtype=float64),\n",
       " 2,\n",
       " array([1., 1., 0.]))"
      ]
     },
     "execution_count": 32,
     "metadata": {},
     "output_type": "execute_result"
    }
   ],
   "source": [
    "linalg.lstsq(F, E) "
   ]
  },
  {
   "cell_type": "markdown",
   "id": "ef73a9b5",
   "metadata": {},
   "source": [
    "Các hàm trên ma trận "
   ]
  },
  {
   "cell_type": "markdown",
   "id": "8148e724",
   "metadata": {},
   "source": [
    "Giới thiệu một số hàm trên ma trận. Các bạn sinh viên thực tập trên ma trận A và D khai\n",
    "báo bên trên: "
   ]
  },
  {
   "cell_type": "markdown",
   "id": "1f57bba0",
   "metadata": {},
   "source": [
    "- Cộng ma trận:"
   ]
  },
  {
   "cell_type": "code",
   "execution_count": 33,
   "id": "9f901125",
   "metadata": {},
   "outputs": [
    {
     "data": {
      "text/plain": [
       "matrix([[4.16771902, 3.54181111],\n",
       "        [2.84160253, 6.13095604]])"
      ]
     },
     "execution_count": 33,
     "metadata": {},
     "output_type": "execute_result"
    }
   ],
   "source": [
    "np.add(A, D)"
   ]
  },
  {
   "cell_type": "markdown",
   "id": "9359c05c",
   "metadata": {},
   "source": [
    "- Trừ ma trận: "
   ]
  },
  {
   "cell_type": "code",
   "execution_count": 35,
   "id": "b8531b4b",
   "metadata": {},
   "outputs": [
    {
     "data": {
      "text/plain": [
       "matrix([[-3.83228098, -2.45818889],\n",
       "        [-1.15839747, -5.86904396]])"
      ]
     },
     "execution_count": 35,
     "metadata": {},
     "output_type": "execute_result"
    }
   ],
   "source": [
    "np.subtract(A, D) "
   ]
  },
  {
   "cell_type": "markdown",
   "id": "b54159ef",
   "metadata": {},
   "source": [
    "- Chia ma trận:"
   ]
  },
  {
   "cell_type": "code",
   "execution_count": 37,
   "id": "7d82036d",
   "metadata": {},
   "outputs": [
    {
     "data": {
      "text/plain": [
       "matrix([[0.04192975, 0.1806037 ],\n",
       "        [0.42080126, 0.02182601]])"
      ]
     },
     "execution_count": 37,
     "metadata": {},
     "output_type": "execute_result"
    }
   ],
   "source": [
    "np.divide(A, D) "
   ]
  },
  {
   "cell_type": "markdown",
   "id": "12b779e9",
   "metadata": {},
   "source": [
    "- Nhân ma trận : "
   ]
  },
  {
   "cell_type": "code",
   "execution_count": 38,
   "id": "a22b8ba7",
   "metadata": {},
   "outputs": [
    {
     "data": {
      "text/plain": [
       "matrix([[1.75449829, 3.75402372],\n",
       "        [3.62832219, 3.31054384]])"
      ]
     },
     "execution_count": 38,
     "metadata": {},
     "output_type": "execute_result"
    }
   ],
   "source": [
    "A @ D "
   ]
  },
  {
   "cell_type": "code",
   "execution_count": 39,
   "id": "4c56d462",
   "metadata": {},
   "outputs": [
    {
     "data": {
      "text/plain": [
       "matrix([[0.67087607, 1.62543333],\n",
       "        [1.68320505, 0.78573626]])"
      ]
     },
     "execution_count": 39,
     "metadata": {},
     "output_type": "execute_result"
    }
   ],
   "source": [
    "np.multiply(D, A) "
   ]
  },
  {
   "cell_type": "code",
   "execution_count": 40,
   "id": "0e096deb",
   "metadata": {},
   "outputs": [
    {
     "data": {
      "text/plain": [
       "matrix([[1.75449829, 3.75402372],\n",
       "        [3.62832219, 3.31054384]])"
      ]
     },
     "execution_count": 40,
     "metadata": {},
     "output_type": "execute_result"
    }
   ],
   "source": [
    "np.dot(A, D)"
   ]
  },
  {
   "cell_type": "code",
   "execution_count": 41,
   "id": "5fbdce67",
   "metadata": {},
   "outputs": [
    {
     "data": {
      "text/plain": [
       "matrix([[0.67087607]])"
      ]
     },
     "execution_count": 41,
     "metadata": {},
     "output_type": "execute_result"
    }
   ],
   "source": [
    "np.vdot(A, D) "
   ]
  },
  {
   "cell_type": "markdown",
   "id": "12c11794",
   "metadata": {},
   "source": [
    "- Hàm lũy thừa và logarith ma trận: "
   ]
  },
  {
   "cell_type": "code",
   "execution_count": 42,
   "id": "f0fb6125",
   "metadata": {},
   "outputs": [
    {
     "data": {
      "text/plain": [
       "array([[1.45920882, 0.67802564],\n",
       "       [1.05318639, 1.41320342]])"
      ]
     },
     "execution_count": 42,
     "metadata": {},
     "output_type": "execute_result"
    }
   ],
   "source": [
    "linalg.expm(A) "
   ]
  },
  {
   "cell_type": "code",
   "execution_count": 43,
   "id": "e66998c8",
   "metadata": {},
   "outputs": [
    {
     "data": {
      "text/plain": [
       "array([[-0.41120918+1.5280536j ,  0.1802892 -1.25988085j],\n",
       "       [ 0.28004565-1.95698996j, -0.42344216+1.61353905j]])"
      ]
     },
     "execution_count": 43,
     "metadata": {},
     "output_type": "execute_result"
    }
   ],
   "source": [
    "linalg.logm(A) "
   ]
  },
  {
   "cell_type": "markdown",
   "id": "2aa82dfa",
   "metadata": {},
   "source": [
    "2.3. Ma trận hội tụ "
   ]
  },
  {
   "cell_type": "markdown",
   "id": "34f3892f",
   "metadata": {},
   "source": [
    "Ma trận phân kỳ: "
   ]
  },
  {
   "cell_type": "code",
   "execution_count": 44,
   "id": "90469c15",
   "metadata": {},
   "outputs": [],
   "source": [
    "import numpy as np"
   ]
  },
  {
   "cell_type": "markdown",
   "id": "a818f73b",
   "metadata": {},
   "source": [
    "- Tính ma trận A: "
   ]
  },
  {
   "cell_type": "code",
   "execution_count": 45,
   "id": "70e34535",
   "metadata": {},
   "outputs": [
    {
     "name": "stdout",
     "output_type": "stream",
     "text": [
      "[[0 1]\n",
      " [1 0]]\n"
     ]
    }
   ],
   "source": [
    "A = np.array([ [0,1], [1,0]])\n",
    "print(A)"
   ]
  },
  {
   "cell_type": "code",
   "execution_count": 46,
   "id": "02b1cb6d",
   "metadata": {},
   "outputs": [
    {
     "name": "stdout",
     "output_type": "stream",
     "text": [
      "[[1 0]\n",
      " [0 1]]\n"
     ]
    }
   ],
   "source": [
    "temp = A.dot(A) # tính toan lần thứ 1\n",
    "print(temp) "
   ]
  },
  {
   "cell_type": "code",
   "execution_count": 47,
   "id": "b9f17b61",
   "metadata": {},
   "outputs": [
    {
     "name": "stdout",
     "output_type": "stream",
     "text": [
      "[[0 1]\n",
      " [1 0]]\n",
      "---\n",
      "[[1 0]\n",
      " [0 1]]\n",
      "---\n",
      "[[0 1]\n",
      " [1 0]]\n",
      "---\n",
      "[[1 0]\n",
      " [0 1]]\n",
      "---\n",
      "[[0 1]\n",
      " [1 0]]\n",
      "---\n"
     ]
    }
   ],
   "source": [
    "k= 6\n",
    "for i in range(k-1):\n",
    "    temp = temp.dot(A)\n",
    "    print (temp)\n",
    "    print('---') "
   ]
  },
  {
   "cell_type": "markdown",
   "id": "279e4e2a",
   "metadata": {},
   "source": [
    "- Tính ma trận B:"
   ]
  },
  {
   "cell_type": "code",
   "execution_count": 48,
   "id": "2f9d0aa4",
   "metadata": {},
   "outputs": [
    {
     "name": "stdout",
     "output_type": "stream",
     "text": [
      "[[ 0 -1]\n",
      " [-1  0]]\n"
     ]
    }
   ],
   "source": [
    "B = np.array([ [0,-1], [-1,0]])\n",
    "print(B) "
   ]
  },
  {
   "cell_type": "code",
   "execution_count": 49,
   "id": "949f78f9",
   "metadata": {},
   "outputs": [
    {
     "name": "stdout",
     "output_type": "stream",
     "text": [
      "[[1 0]\n",
      " [0 1]]\n"
     ]
    }
   ],
   "source": [
    "temp = B.dot(B) # tính toan lần thứ 1\n",
    "print(temp) "
   ]
  },
  {
   "cell_type": "code",
   "execution_count": 50,
   "id": "9659d189",
   "metadata": {},
   "outputs": [
    {
     "name": "stdout",
     "output_type": "stream",
     "text": [
      "[[ 0 -1]\n",
      " [-1  0]]\n",
      "---\n",
      "[[1 0]\n",
      " [0 1]]\n",
      "---\n",
      "[[ 0 -1]\n",
      " [-1  0]]\n",
      "---\n",
      "[[1 0]\n",
      " [0 1]]\n",
      "---\n"
     ]
    }
   ],
   "source": [
    "k= 5\n",
    "for i in range(k-1):\n",
    "    temp = temp.dot(B)\n",
    "    print (temp)\n",
    "    print('---')"
   ]
  },
  {
   "cell_type": "markdown",
   "id": "41c71b2f",
   "metadata": {},
   "source": [
    "- Ma trận hội tụ - Convergent matrix:  C=$\\left(\\begin{matrix}1 & 0 & 0\\\\0 & \\frac{1}{2} & 1\\\\0 & 0 & \\frac{1}{2}\\end{matrix}\\right) $"
   ]
  },
  {
   "cell_type": "code",
   "execution_count": 51,
   "id": "dfb3ccc6",
   "metadata": {},
   "outputs": [
    {
     "name": "stdout",
     "output_type": "stream",
     "text": [
      "[[1.  0.  0. ]\n",
      " [0.  0.5 1. ]\n",
      " [0.  0.  0.5]]\n"
     ]
    }
   ],
   "source": [
    "C = np.array([ [1, 0, 0], [0, 0.5, 1], [0, 0, 0.5] ])\n",
    "print(C)"
   ]
  },
  {
   "cell_type": "code",
   "execution_count": 52,
   "id": "2bb878ac",
   "metadata": {},
   "outputs": [
    {
     "name": "stdout",
     "output_type": "stream",
     "text": [
      "[[1.   0.   0.  ]\n",
      " [0.   0.25 1.  ]\n",
      " [0.   0.   0.25]]\n"
     ]
    }
   ],
   "source": [
    "temp = C.dot(C) # tính toan lần thứ 1\n",
    "print(temp) "
   ]
  },
  {
   "cell_type": "code",
   "execution_count": 53,
   "id": "f8866804",
   "metadata": {},
   "outputs": [
    {
     "name": "stdout",
     "output_type": "stream",
     "text": [
      "[[1.00000000e+000 0.00000000e+000 0.00000000e+000]\n",
      " [0.00000000e+000 4.66631809e-302 9.34196882e-299]\n",
      " [0.00000000e+000 0.00000000e+000 4.66631809e-302]]\n"
     ]
    }
   ],
   "source": [
    "k= 1000\n",
    "for i in range(k-1):\n",
    "    temp = temp.dot(C)\n",
    "print(temp) "
   ]
  },
  {
   "cell_type": "markdown",
   "id": "42378e4c",
   "metadata": {},
   "source": [
    "Sau đó, thực hiện thêm 1 lần tích 1000 lần nữa:"
   ]
  },
  {
   "cell_type": "code",
   "execution_count": 54,
   "id": "24c79585",
   "metadata": {},
   "outputs": [
    {
     "name": "stdout",
     "output_type": "stream",
     "text": [
      "[[1. 0. 0.]\n",
      " [0. 0. 0.]\n",
      " [0. 0. 0.]]\n"
     ]
    }
   ],
   "source": [
    "k= 1000\n",
    "for i in range(k-1):\n",
    "    temp = temp.dot(C)\n",
    "print(temp) "
   ]
  },
  {
   "cell_type": "markdown",
   "id": "1929e2bb",
   "metadata": {},
   "source": [
    "2.4. Ma trận Markov"
   ]
  },
  {
   "cell_type": "code",
   "execution_count": 55,
   "id": "ee764b7c",
   "metadata": {},
   "outputs": [
    {
     "name": "stdout",
     "output_type": "stream",
     "text": [
      "[[0.7  0.45]\n",
      " [0.3  0.55]]\n"
     ]
    }
   ],
   "source": [
    "M = np.array([ [0.8, 0.3], [0.2, 0.7]])\n",
    "MM = M.dot(M) # tính M2, nghĩa là M2\n",
    "print (MM) "
   ]
  },
  {
   "cell_type": "code",
   "execution_count": 56,
   "id": "a901a693",
   "metadata": {},
   "outputs": [
    {
     "name": "stdout",
     "output_type": "stream",
     "text": [
      "[[0.7  0.45]\n",
      " [0.3  0.55]]\n"
     ]
    }
   ],
   "source": [
    "MM = M.dot(M) # tính M3\n",
    "print (MM) "
   ]
  },
  {
   "cell_type": "code",
   "execution_count": 57,
   "id": "29c3391b",
   "metadata": {},
   "outputs": [
    {
     "name": "stdout",
     "output_type": "stream",
     "text": [
      "[[0.6 0.6]\n",
      " [0.4 0.4]]\n"
     ]
    }
   ],
   "source": [
    "for i in range(100): # tính các M^ khác.\n",
    "    MM = MM.dot(M)\n",
    "print (MM) # kết luận xu hướng của jb"
   ]
  },
  {
   "cell_type": "markdown",
   "id": "ddd2e8c1",
   "metadata": {},
   "source": [
    "3. Phương trình ma trận"
   ]
  },
  {
   "cell_type": "markdown",
   "id": "acecf16e",
   "metadata": {},
   "source": [
    "3.2. Phân rã ma trận LU"
   ]
  },
  {
   "cell_type": "code",
   "execution_count": 59,
   "id": "b91f910f",
   "metadata": {},
   "outputs": [
    {
     "name": "stdout",
     "output_type": "stream",
     "text": [
      "[[1. 0.]\n",
      " [0. 1.]]\n",
      "[[1. 0.]\n",
      " [0. 1.]]\n"
     ]
    }
   ],
   "source": [
    "M = np.array([ [0.8, 0.3], [0.2, 0.7]])\n",
    "P, L, U = linalg.lu(M) \n",
    "print(P)\n",
    "print(P)"
   ]
  },
  {
   "cell_type": "code",
   "execution_count": 60,
   "id": "f993ffcf",
   "metadata": {},
   "outputs": [
    {
     "name": "stdout",
     "output_type": "stream",
     "text": [
      "[[1.   0.  ]\n",
      " [0.25 1.  ]]\n"
     ]
    }
   ],
   "source": [
    "print(L)"
   ]
  },
  {
   "cell_type": "code",
   "execution_count": 61,
   "id": "543f9490",
   "metadata": {},
   "outputs": [
    {
     "name": "stdout",
     "output_type": "stream",
     "text": [
      "[[0.8   0.3  ]\n",
      " [0.    0.625]]\n"
     ]
    }
   ],
   "source": [
    "print(U)"
   ]
  },
  {
   "cell_type": "markdown",
   "id": "b0b0a082",
   "metadata": {},
   "source": [
    "Thử lại với phép nhân LU có bằng ma trận M ban đầu hay không: "
   ]
  },
  {
   "cell_type": "code",
   "execution_count": 62,
   "id": "4d6b9a72",
   "metadata": {},
   "outputs": [
    {
     "data": {
      "text/plain": [
       "array([[0.8, 0.3],\n",
       "       [0.2, 0.7]])"
      ]
     },
     "execution_count": 62,
     "metadata": {},
     "output_type": "execute_result"
    }
   ],
   "source": [
    "L.dot(U) "
   ]
  },
  {
   "cell_type": "markdown",
   "id": "3002dac1",
   "metadata": {},
   "source": [
    "5. Bài toán ứng dụng 2 – Bài toán loan tin"
   ]
  },
  {
   "cell_type": "code",
   "execution_count": 63,
   "id": "7a89025e",
   "metadata": {},
   "outputs": [
    {
     "name": "stdout",
     "output_type": "stream",
     "text": [
      "[[1 1 1 0]\n",
      " [1 0 0 1]\n",
      " [1 2 0 1]\n",
      " [0 1 1 1]]\n"
     ]
    }
   ],
   "source": [
    "A = np.array([ [0,1,0,1],[0,0,1,0],[1,0,0,1],[1,1,0,0]])\n",
    "temp = A.dot(A) \n",
    "print(temp) "
   ]
  },
  {
   "cell_type": "code",
   "execution_count": 64,
   "id": "c1a0d73a",
   "metadata": {},
   "outputs": [
    {
     "name": "stdout",
     "output_type": "stream",
     "text": [
      "[[1 1 1 2]\n",
      " [1 2 0 1]\n",
      " [1 2 2 1]\n",
      " [2 1 1 1]]\n"
     ]
    }
   ],
   "source": [
    "temp = temp.dot(A)\n",
    "print(temp) "
   ]
  },
  {
   "cell_type": "code",
   "execution_count": 65,
   "id": "a172db99",
   "metadata": {},
   "outputs": [
    {
     "name": "stdout",
     "output_type": "stream",
     "text": [
      "[[1 1 1 2]\n",
      " [1 2 0 1]\n",
      " [1 2 2 1]\n",
      " [2 1 1 1]]\n",
      "[[2 3 2 3]\n",
      " [2 2 1 2]\n",
      " [3 4 2 3]\n",
      " [3 3 2 2]]\n"
     ]
    }
   ],
   "source": [
    "A = np.array([ [0,1,0,1],[0,0,1,0],[1,0,0,1],[1,1,0,0]])\n",
    "sumA = A\n",
    "temp = A.dot(A)\n",
    "k = 3\n",
    "sumA = sumA + temp\n",
    "for i in range(1, k-1):\n",
    "    temp = temp.dot(A)\n",
    "    sumA = sumA + temp\n",
    "print (temp)\n",
    "print (sumA) "
   ]
  },
  {
   "cell_type": "markdown",
   "id": "1bcd1912",
   "metadata": {},
   "source": [
    "Bài Tập Chương 3 "
   ]
  },
  {
   "cell_type": "markdown",
   "id": "bf2e5805",
   "metadata": {},
   "source": [
    "Câu 1 : Hãy viết chương trình bằng Python hoặc sử dụng thư viện numpy/sympy để:"
   ]
  },
  {
   "cell_type": "markdown",
   "id": "5f740f60",
   "metadata": {},
   "source": [
    "a. Tự chọn một ma trận khả nghịch 3x3. Sinh viên chứng minh ma trận đó khả nghịch (tồn tại ma trận nghịch đảo) "
   ]
  },
  {
   "cell_type": "code",
   "execution_count": 66,
   "id": "7ba4c78d",
   "metadata": {},
   "outputs": [
    {
     "name": "stdout",
     "output_type": "stream",
     "text": [
      "Định thức của A: 15.0\n",
      "Ma trận khả nghịch\n",
      "Ma trận nghịch đảo của A:\n",
      " [[ 0.46666667  0.13333333 -0.06666667]\n",
      " [-0.06666667  0.26666667 -0.13333333]\n",
      " [-0.26666667  0.06666667  0.46666667]]\n"
     ]
    }
   ],
   "source": [
    "import numpy as np\n",
    "from scipy import linalg\n",
    "\n",
    "A=np.array([[2, -1, 0],\n",
    "            [1, 3, 1],\n",
    "            [1, -1, 2]])\n",
    "det_A=np.linalg.det(A)\n",
    "print(\"Định thức của A:\",det_A)\n",
    "if det_A != 0:\n",
    "    print(\"Ma trận khả nghịch\")\n",
    "    A_inv = np.linalg.inv(A)\n",
    "    print(\"Ma trận nghịch đảo của A:\\n\",A_inv)\n",
    "else:\n",
    "    print(\"Ma trận không khả nghịch\")"
   ]
  },
  {
   "cell_type": "markdown",
   "id": "730154a4",
   "metadata": {},
   "source": [
    "b. Nhập họ và tên hoặc mã số sinh viên (của sinh viên)"
   ]
  },
  {
   "cell_type": "code",
   "execution_count": null,
   "id": "4844d51a",
   "metadata": {},
   "outputs": [],
   "source": [
    "ma_sv=input(\"Nhập họ tên hoặc mã số sinh viên: \")"
   ]
  },
  {
   "cell_type": "markdown",
   "id": "77031722",
   "metadata": {},
   "source": [
    "c. Mã hóa họ và tên hoặc mã số sinh viên (của sinh viên). "
   ]
  },
  {
   "cell_type": "code",
   "execution_count": null,
   "id": "b77cc2bf",
   "metadata": {},
   "outputs": [],
   "source": [
    "mahoa=' '.join(str(ord(c)) for c in ma_sv)\n",
    "print(\"Mã hoá:\",mahoa)"
   ]
  },
  {
   "cell_type": "markdown",
   "id": "53855af4",
   "metadata": {},
   "source": [
    "d. Thực hiện giải mã với ma trận được chọn."
   ]
  },
  {
   "cell_type": "code",
   "execution_count": null,
   "id": "25e99cf8",
   "metadata": {},
   "outputs": [],
   "source": [
    "chuoima=input(\"Nhập chuỗi mã hoá (các số cách nhau bằng cách cách): \")\n",
    "danhsachso=list(map(int,chuoima.split()))\n",
    "chuoigiaima = ''.join(chr(i) for i in danhsachso)\n",
    "print(\"Thông điệp giải mã:\",chuoigiaima)"
   ]
  },
  {
   "cell_type": "markdown",
   "id": "4f500807",
   "metadata": {},
   "source": [
    "Câu 2: Tính toán phân số từ liên phân số (continued fractions)"
   ]
  },
  {
   "cell_type": "markdown",
   "id": "89a0488c",
   "metadata": {},
   "source": [
    "a.Viết chương trình tính \n",
    "𝑝\n",
    "𝑛\n",
    "p \n",
    "n\n",
    "​\n",
    "  và \n",
    "𝑞\n",
    "𝑛\n",
    "q \n",
    "n\n",
    "​\n",
    "  từ danh sách các hệ số \n",
    "𝑐\n",
    "0\n",
    ",\n",
    "𝑐\n",
    "1\n",
    ",\n",
    ".\n",
    ".\n",
    ".\n",
    ",\n",
    "𝑐\n",
    "𝑛\n",
    "c \n",
    "0\n",
    "​\n",
    " ,c \n",
    "1\n",
    "​\n",
    " ,...,c \n",
    "n\n",
    "​\n",
    " .\n",
    " "
   ]
  },
  {
   "cell_type": "code",
   "execution_count": 67,
   "id": "136609e3",
   "metadata": {},
   "outputs": [
    {
     "name": "stdout",
     "output_type": "stream",
     "text": [
      "p_n =8 \n",
      " q_n=3 \n",
      " phân số=8/3=2.6666666666666665\n"
     ]
    }
   ],
   "source": [
    "import numpy as np\n",
    "def continued_fraction(c):\n",
    "    vec=np.array([[1], [0]])\n",
    "    for ci in reversed(c):\n",
    "        mat=np.array([[ci, 1],\n",
    "                      [1,  0]])\n",
    "        vec=mat @ vec\n",
    "    return vec[0, 0], vec[1, 0]\n",
    "coeffs=[2, 1, 2]\n",
    "pn,qn=continued_fraction(coeffs)\n",
    "print(f\"p_n ={pn} \\n q_n={qn} \\n phân số={pn}/{qn}={pn/qn}\")"
   ]
  },
  {
   "cell_type": "markdown",
   "id": "b4f3b40f",
   "metadata": {},
   "source": [
    "b.Chứng minh công thức truy hồi ma trận:"
   ]
  },
  {
   "cell_type": "code",
   "execution_count": 68,
   "id": "87fce2e7",
   "metadata": {},
   "outputs": [
    {
     "name": "stdout",
     "output_type": "stream",
     "text": [
      "Theo nhân ma trận: p_n=8 \n",
      " q_n=3 \n",
      " p_n/q_n=2.6666666666666665\n",
      "Theo truy hồi:     p_n=8 \n",
      " q_n=3 \n",
      " p_n/q_n=2.6666666666666665\n"
     ]
    }
   ],
   "source": [
    "import numpy as np\n",
    "def compute_fraction_matrix(c_list):\n",
    "    vec=np.array([[1], [0]])  \n",
    "    for ci in reversed(c_list): \n",
    "        M=np.array([[ci, 1], [1, 0]])\n",
    "        vec=M @ vec\n",
    "    return int(vec[0, 0]), int(vec[1, 0])\n",
    "def verify_by_recurrence(c_list):\n",
    "    p_prev, p_curr=1, c_list[0]\n",
    "    q_prev, q_curr=0, 1\n",
    "    for i in range(1, len(c_list)):\n",
    "        p_next=c_list[i]*p_curr+p_prev\n",
    "        q_next=c_list[i]*q_curr+q_prev\n",
    "        p_prev,p_curr=p_curr,p_next\n",
    "        q_prev,q_curr=q_curr,q_next\n",
    "    return p_curr,q_curr\n",
    "c=[2,1,2]  \n",
    "pn_mat,qn_mat=compute_fraction_matrix(c)\n",
    "pn_rec,qn_rec=verify_by_recurrence(c)\n",
    "print(f\"Theo nhân ma trận: p_n={pn_mat} \\n q_n={qn_mat} \\n p_n/q_n={pn_mat/qn_mat}\")\n",
    "print(f\"Theo truy hồi:     p_n={pn_rec} \\n q_n={qn_rec} \\n p_n/q_n={pn_rec/qn_rec}\")"
   ]
  }
 ],
 "metadata": {
  "kernelspec": {
   "display_name": "Python 3",
   "language": "python",
   "name": "python3"
  },
  "language_info": {
   "codemirror_mode": {
    "name": "ipython",
    "version": 3
   },
   "file_extension": ".py",
   "mimetype": "text/x-python",
   "name": "python",
   "nbconvert_exporter": "python",
   "pygments_lexer": "ipython3",
   "version": "3.11.9"
  }
 },
 "nbformat": 4,
 "nbformat_minor": 5
}
