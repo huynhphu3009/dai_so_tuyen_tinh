{
  "nbformat": 4,
  "nbformat_minor": 0,
  "metadata": {
    "colab": {
      "provenance": []
    },
    "kernelspec": {
      "name": "python3",
      "display_name": "Python 3"
    },
    "language_info": {
      "name": "python"
    }
  },
  "cells": [
    {
      "cell_type": "code",
      "execution_count": null,
      "metadata": {
        "colab": {
          "base_uri": "https://localhost:8080/"
        },
        "id": "ExUcnjkg3m4f",
        "outputId": "c791c32b-a758-4ed9-e777-e1decff9a3c4"
      },
      "outputs": [
        {
          "output_type": "stream",
          "name": "stdout",
          "text": [
            "Tích vô hướng (vector 1 chiều):\n",
            "np.inner(a, b): 32\n",
            "np.dot(a, b): 32\n",
            "\n",
            "Ma trận 2 chiều:\n",
            "A =\n",
            " [[1 2]\n",
            " [3 4]]\n",
            "B =\n",
            " [[5 6]\n",
            " [7 8]]\n",
            "\n",
            "np.inner(A, B):\n",
            "[[17 23]\n",
            " [39 53]]\n",
            "\n",
            "np.dot(A, B):\n",
            "[[19 22]\n",
            " [43 50]]\n"
          ]
        }
      ],
      "source": [
        "#bai 1\n",
        "import numpy as np\n",
        "a = np.array([1, 2, 3])\n",
        "b = np.array([4, 5, 6])\n",
        "print(\"Tích vô hướng (vector 1 chiều):\")\n",
        "print(\"np.inner(a, b):\", np.inner(a, b))\n",
        "print(\"np.dot(a, b):\", np.dot(a, b))\n",
        "print()\n",
        "A = np.array([[1, 2], [3, 4]])\n",
        "B = np.array([[5, 6], [7, 8]])\n",
        "print(\"Ma trận 2 chiều:\")\n",
        "print(\"A =\\n\", A)\n",
        "print(\"B =\\n\", B)\n",
        "print()\n",
        "print(\"np.inner(A, B):\")\n",
        "print(np.inner(A, B))\n",
        "print()\n",
        "print(\"np.dot(A, B):\")\n",
        "print(np.dot(A, B))"
      ]
    },
    {
      "cell_type": "code",
      "source": [
        "#bai 2\n",
        "import numpy as np\n",
        "m = 10\n",
        "v1 = np.array([5, -4, 3])\n",
        "v2 = np.array([4, 3, -2])\n",
        "v3 = np.array([-4, -3, -1])\n",
        "v4 = np.array([-9, 8, 6])\n",
        "mi = np.array([2, 5, 2, 1])\n",
        "M = np.array([v1, v2, v3, v4])\n",
        "MT = M.transpose()\n",
        "print(\"MT =\")\n",
        "print(MT)\n",
        "v = (1.0 / m) * MT.dot(mi)\n",
        "print(\"v =\")\n",
        "print(v)"
      ],
      "metadata": {
        "colab": {
          "base_uri": "https://localhost:8080/"
        },
        "id": "zpTc01Re9TuD",
        "outputId": "da7c7d8d-8375-4ee1-949a-b387816665fd"
      },
      "execution_count": null,
      "outputs": [
        {
          "output_type": "stream",
          "name": "stdout",
          "text": [
            "MT =\n",
            "[[ 5  4 -4 -9]\n",
            " [-4  3 -3  8]\n",
            " [ 3 -2 -1  6]]\n",
            "v =\n",
            "[1.3 0.9 0. ]\n"
          ]
        }
      ]
    },
    {
      "cell_type": "code",
      "source": [
        "#bai 3\n",
        "import numpy as np\n",
        "A = np.array([[0.998, 0.136],\n",
        "              [0.002, 0.864]])\n",
        "v0 = np.array([0.95, 0.05])\n",
        "A_100 = np.linalg.matrix_power(A, 100)\n",
        "v100 = A_100 @ v0\n",
        "print(\"Trạng thái sau 100 tuần:\")\n",
        "print(v100)"
      ],
      "metadata": {
        "colab": {
          "base_uri": "https://localhost:8080/"
        },
        "id": "DdBZ1R279ohs",
        "outputId": "612d6fcd-7d76-4885-9024-472937d7fab8"
      },
      "execution_count": null,
      "outputs": [
        {
          "output_type": "stream",
          "name": "stdout",
          "text": [
            "Trạng thái sau 100 tuần:\n",
            "[0.98550723 0.01449277]\n"
          ]
        }
      ]
    },
    {
      "cell_type": "code",
      "source": [
        "#bai 4\n",
        "import numpy as np\n",
        "A = np.array([[1, 6],\n",
        "              [5, 2]])\n",
        "u = np.array([6, -5])\n",
        "Au = A @ u\n",
        "print(\"A @ u =\", Au)\n",
        "minus4u = -4 * u\n",
        "print(\"-4 * u =\", minus4u)\n",
        "print(\"A @ u == -4 * u ?\", np.allclose(Au, minus4u))\n"
      ],
      "metadata": {
        "colab": {
          "base_uri": "https://localhost:8080/"
        },
        "id": "6qMceqwT-XB6",
        "outputId": "cc8dd793-8ccd-410e-a06e-3bbc6c527d03"
      },
      "execution_count": null,
      "outputs": [
        {
          "output_type": "stream",
          "name": "stdout",
          "text": [
            "A @ u = [-24  20]\n",
            "-4 * u = [-24  20]\n",
            "A @ u == -4 * u ? True\n"
          ]
        }
      ]
    },
    {
      "cell_type": "code",
      "source": [
        "#bai 5\n",
        "import numpy as np\n",
        "from numpy import linalg as LA\n",
        "A = np.array([[2, 3],\n",
        "              [3, -6]])\n",
        "D = np.array([[-7, 0],\n",
        "              [0, 3]])\n",
        "P = np.array([[-1.0/3, 3],\n",
        "              [1,      1]])\n",
        "P1 = LA.inv(P)\n",
        "print(\"P^(-1) =\")\n",
        "print(P1)"
      ],
      "metadata": {
        "colab": {
          "base_uri": "https://localhost:8080/"
        },
        "id": "HXnqVK6e-1il",
        "outputId": "17d37825-721c-43f8-cc8c-fefe2aabebff"
      },
      "execution_count": null,
      "outputs": [
        {
          "output_type": "stream",
          "name": "stdout",
          "text": [
            "P^(-1) =\n",
            "[[-0.3  0.9]\n",
            " [ 0.3  0.1]]\n"
          ]
        }
      ]
    },
    {
      "cell_type": "code",
      "source": [
        "#bai tap chuong\n",
        "#bai 1\n",
        "import numpy as np\n",
        "import math\n",
        "a = np.array([1, 2, 3])\n",
        "mag_a = np.sqrt(a.dot(a))         # a\n",
        "mag_b = np.sqrt(a @ a)            # b\n",
        "mag_c = np.sqrt(np.inner(a, a))   # c\n",
        "mag_d = (lambda x: math.sqrt(sum(i**2 for i in x)))(a)  # d\n",
        "print(mag_a, mag_b, mag_c, mag_d)  # All should print sqrt(14) ≈ 3.7417\n"
      ],
      "metadata": {
        "colab": {
          "base_uri": "https://localhost:8080/"
        },
        "id": "nspuOPpo_B7v",
        "outputId": "0b9ebafd-1f31-42fc-9f11-48bde377687f"
      },
      "execution_count": null,
      "outputs": [
        {
          "output_type": "stream",
          "name": "stdout",
          "text": [
            "3.7416573867739413 3.7416573867739413 3.7416573867739413 3.7416573867739413\n"
          ]
        }
      ]
    },
    {
      "cell_type": "code",
      "source": [
        "#bai tap chuong\n",
        "#bai 2\n",
        "import numpy as np\n",
        "from numpy import dot, linalg\n",
        "from math import acos, degrees\n",
        "# Khai báo 2 vector\n",
        "u = np.array([1, 2, 3])\n",
        "v = np.array([4, 5, 6])\n",
        "# a. Tính khoảng cách ||u - v||\n",
        "distance = linalg.norm(u - v)\n",
        "print(\"a. Khoảng cách ||u - v|| =\", distance)\n",
        "# b. Tính góc theta giữa u và v\n",
        "dot_uv = dot(u, v)\n",
        "norm_u = linalg.norm(u)\n",
        "norm_v = linalg.norm(v)\n",
        "cos_theta = dot_uv / (norm_u * norm_v)\n",
        "theta_rad = acos(cos_theta)\n",
        "theta_deg = degrees(theta_rad)\n",
        "print(\"b. Góc giữa u và v (radian):\", theta_rad)\n",
        "print(\"   Góc giữa u và v (degree):\", theta_deg)\n",
        "# c. Phép chiếu trực giao của u lên v\n",
        "projection_scalar = dot(u, v) / dot(v, v)\n",
        "projection = projection_scalar * v\n",
        "print(\"c. Phép chiếu u lên v:\", projection)"
      ],
      "metadata": {
        "colab": {
          "base_uri": "https://localhost:8080/"
        },
        "id": "sXAIDPyq_M1j",
        "outputId": "d9e7c312-6f3c-4751-897f-c169bb13609c"
      },
      "execution_count": null,
      "outputs": [
        {
          "output_type": "stream",
          "name": "stdout",
          "text": [
            "a. Khoảng cách ||u - v|| = 5.196152422706632\n",
            "b. Góc giữa u và v (radian): 0.2257261285527342\n",
            "   Góc giữa u và v (degree): 12.933154491899135\n",
            "c. Phép chiếu u lên v: [1.66233766 2.07792208 2.49350649]\n"
          ]
        }
      ]
    }
  ]
}