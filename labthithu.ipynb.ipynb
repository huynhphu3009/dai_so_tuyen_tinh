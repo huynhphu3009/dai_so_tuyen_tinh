{
  "cells": [
    {
      "cell_type": "markdown",
      "source": [
        "câu 1"
      ],
      "metadata": {
        "id": "6ldgj3E0EKOs"
      }
    },
    {
      "cell_type": "code",
      "source": [
        "import numpy as np\n",
        "\n",
        "A = np.array([2, -1, 3, 0])\n",
        "B = np.array([1, 4, -2, 5])\n",
        "\n",
        "tong = A + B\n",
        "hieu = 3*A - 2*B\n",
        "\n",
        "print(\"a) A + B =\", tong)\n",
        "print(\"a) 3A - 2B =\", hieu)\n",
        "\n",
        "dot_product = np.dot(A, B)\n",
        "normA = np.linalg.norm(A)\n",
        "normB = np.linalg.norm(B)\n",
        "cos_theta = dot_product / (normA * normB)\n",
        "angle_deg = np.degrees(np.arccos(cos_theta))\n",
        "\n",
        "print(\"b) Tích vô hướng A · B =\", dot_product)\n",
        "print(\"b) Góc giữa A và B (độ) =\", round(angle_deg, 3))\n",
        "\n",
        "C = np.array([[1, 2, -1],\n",
        "              [0, 3, 4],\n",
        "              [2, -1, 0]])\n",
        "\n",
        "CT = C.T\n",
        "CTC = CT @ C\n",
        "\n",
        "print(\"c) C^T * C =\\n\", CTC)\n"
      ],
      "metadata": {
        "id": "pIulSMLVESGk",
        "outputId": "8facc9e3-b598-4598-abcd-29cebd4c16e4",
        "colab": {
          "base_uri": "https://localhost:8080/"
        }
      },
      "execution_count": 1,
      "outputs": [
        {
          "output_type": "stream",
          "name": "stdout",
          "text": [
            "a) A + B = [3 3 1 5]\n",
            "a) 3A - 2B = [  4 -11  13 -10]\n",
            "b) Tích vô hướng A · B = -8\n",
            "b) Góc giữa A và B (độ) = 108.376\n",
            "c) C^T * C =\n",
            " [[ 5  0 -1]\n",
            " [ 0 14 10]\n",
            " [-1 10 17]]\n"
          ]
        }
      ]
    },
    {
      "cell_type": "markdown",
      "source": [
        "câu 2"
      ],
      "metadata": {
        "id": "O4wqPZzSFRdW"
      }
    },
    {
      "cell_type": "code",
      "source": [
        "import numpy as np\n",
        "\n",
        "M = np.array([[1, 2, 3],\n",
        "              [4, 5, 6],\n",
        "              [7, 8, 9],\n",
        "              [0, 1, 1]])\n",
        "\n",
        "N = np.array([[0, 1, 2, 3],\n",
        "              [4, 5, 6, 7],\n",
        "              [8, 9, 10, 11]])\n",
        "\n",
        "print(\"a) M · N =\\n\", M @ N)\n",
        "\n",
        "try:\n",
        "    det_M = np.linalg.det(M)\n",
        "    print(\"b) Định thức của M =\", det_M)\n",
        "except:\n",
        "    print(\"b) Không tính được định thức của M (ma trận không vuông)\")\n",
        "\n",
        "rank_M = np.linalg.matrix_rank(M)\n",
        "print(\"c) Hạng của M =\", rank_M)\n"
      ],
      "metadata": {
        "id": "iS9wAgA7FTtx",
        "outputId": "e6339596-7a91-4037-a764-301ae137ff8d",
        "colab": {
          "base_uri": "https://localhost:8080/"
        }
      },
      "execution_count": 2,
      "outputs": [
        {
          "output_type": "stream",
          "name": "stdout",
          "text": [
            "a) M · N =\n",
            " [[ 32  38  44  50]\n",
            " [ 68  83  98 113]\n",
            " [104 128 152 176]\n",
            " [ 12  14  16  18]]\n",
            "b) Không tính được định thức của M (ma trận không vuông)\n",
            "c) Hạng của M = 3\n"
          ]
        }
      ]
    },
    {
      "cell_type": "markdown",
      "source": [
        "câu 3"
      ],
      "metadata": {
        "id": "y8gjfyHvFpYV"
      }
    },
    {
      "cell_type": "code",
      "source": [
        "P = np.array([[2, 1, 0, -1],\n",
        "              [0, 3, 1, -1],\n",
        "              [1, 0, 4, 2],\n",
        "              [0, 1, 0, 3]])\n",
        "\n",
        "b3 = np.array([4, 7, 9, 5])\n",
        "\n",
        "try:\n",
        "    P_inv = np.linalg.inv(P)\n",
        "    print(\"a) Ma trận nghịch đảo P^-1 =\\n\", P_inv)\n",
        "except:\n",
        "    print(\"a) P không khả nghịch\")\n",
        "\n",
        "x3 = np.linalg.solve(P, b3)\n",
        "print(\"b) Nghiệm của hệ P · x = b là:\", x3)\n",
        "\n",
        "check = P @ x3\n",
        "print(\"c) Kiểm tra lại: P · x =\", check)\n",
        "print(\"   So sánh với b =\", b3)\n"
      ],
      "metadata": {
        "id": "MT38Eea6FxQV",
        "outputId": "0601b9cb-c709-4d40-c49c-688b3fa1279e",
        "colab": {
          "base_uri": "https://localhost:8080/"
        }
      },
      "execution_count": 3,
      "outputs": [
        {
          "output_type": "stream",
          "name": "stdout",
          "text": [
            "a) Ma trận nghịch đảo P^-1 =\n",
            " [[ 0.47727273 -0.18181818  0.04545455  0.06818182]\n",
            " [ 0.03409091  0.27272727 -0.06818182  0.14772727]\n",
            " [-0.11363636  0.09090909  0.22727273 -0.15909091]\n",
            " [-0.01136364 -0.09090909  0.02272727  0.28409091]]\n",
            "b) Nghiệm của hệ P · x = b là: [1.38636364 2.17045455 1.43181818 0.94318182]\n",
            "c) Kiểm tra lại: P · x = [4. 7. 9. 5.]\n",
            "   So sánh với b = [4 7 9 5]\n"
          ]
        }
      ]
    },
    {
      "cell_type": "markdown",
      "source": [
        "câu 4"
      ],
      "metadata": {
        "id": "MgXRrHnmF0fd"
      }
    },
    {
      "cell_type": "code",
      "source": [
        "Q = np.array([[4, -1, 0],\n",
        "              [1, 3, -2],\n",
        "              [0, 1, 2]])\n",
        "\n",
        "eigvals, eigvecs = np.linalg.eig(Q)\n",
        "print(\"a) Giá trị riêng:\", eigvals)\n",
        "print(\"b) Vector riêng:\\n\", eigvecs)\n",
        "\n",
        "eigvecs_norm = eigvecs / np.linalg.norm(eigvecs, axis=0)\n",
        "print(\"c) Vector riêng chuẩn hóa (chuẩn 1):\\n\", eigvecs_norm)\n"
      ],
      "metadata": {
        "id": "CVZT6BkqGMZb",
        "outputId": "d69aeb5a-874f-405e-b4b7-f78ef36a941d",
        "colab": {
          "base_uri": "https://localhost:8080/"
        }
      },
      "execution_count": 4,
      "outputs": [
        {
          "output_type": "stream",
          "name": "stdout",
          "text": [
            "a) Giá trị riêng: [3.45339765+0.j         2.77330117+1.46771151j 2.77330117-1.46771151j]\n",
            "b) Vector riêng:\n",
            " [[ 0.83327121+0.j         -0.26206044-0.31354813j -0.26206044+0.31354813j]\n",
            " [ 0.455468  +0.j         -0.78166743+0.j         -0.78166743-0.j        ]\n",
            " [ 0.31338154+0.j         -0.21963176+0.41685708j -0.21963176-0.41685708j]]\n",
            "c) Vector riêng chuẩn hóa (chuẩn 1):\n",
            " [[ 0.83327121+0.j         -0.26206044-0.31354813j -0.26206044+0.31354813j]\n",
            " [ 0.455468  +0.j         -0.78166743+0.j         -0.78166743+0.j        ]\n",
            " [ 0.31338154+0.j         -0.21963176+0.41685708j -0.21963176-0.41685708j]]\n"
          ]
        }
      ]
    },
    {
      "cell_type": "markdown",
      "source": [
        "câu 5"
      ],
      "metadata": {
        "id": "JySPMMWPGbgr"
      }
    },
    {
      "cell_type": "code",
      "source": [
        "R = np.array([[1, -2, 3],\n",
        "              [2, 0, 1],\n",
        "              [-1, 1, 4]])\n",
        "b5 = np.array([10, 8, 7])\n",
        "\n",
        "x5 = np.linalg.solve(R, b5)\n",
        "print(\"a) Nghiệm x của hệ Rx = b:\", x5)\n",
        "\n",
        "det_R = np.linalg.det(R)\n",
        "print(\"b) Định thức của R =\", det_R)\n",
        "\n",
        "if det_R != 0:\n",
        "    R_inv = np.linalg.inv(R)\n",
        "    x_check = R_inv @ b5\n",
        "    print(\"   R khả nghịch. Nghiệm kiểm lại bằng R^-1:\", x_check)\n",
        "else:\n",
        "    print(\"   R không khả nghịch.\")\n",
        "\n",
        "frobenius = np.linalg.norm(R, ord='fro')\n",
        "print(\"c) Chuẩn Frobenius của R =\", frobenius)\n"
      ],
      "metadata": {
        "id": "1qU06J9DGchk",
        "outputId": "ba443392-dada-458c-d53a-2e3e8b4fb467",
        "colab": {
          "base_uri": "https://localhost:8080/"
        }
      },
      "execution_count": 5,
      "outputs": [
        {
          "output_type": "stream",
          "name": "stdout",
          "text": [
            "a) Nghiệm x của hệ Rx = b: [2.7826087  0.04347826 2.43478261]\n",
            "b) Định thức của R = 23.0\n",
            "   R khả nghịch. Nghiệm kiểm lại bằng R^-1: [2.7826087  0.04347826 2.43478261]\n",
            "c) Chuẩn Frobenius của R = 6.082762530298219\n"
          ]
        }
      ]
    }
  ],
  "metadata": {
    "colab": {
      "name": "Chào mừng bạn đến với Colab",
      "provenance": []
    },
    "kernelspec": {
      "display_name": "Python 3",
      "name": "python3"
    }
  },
  "nbformat": 4,
  "nbformat_minor": 0
}