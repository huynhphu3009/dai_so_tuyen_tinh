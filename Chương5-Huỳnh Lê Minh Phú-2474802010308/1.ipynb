{
 "cells": [
  {
   "cell_type": "code",
   "execution_count": null,
   "id": "663cec57",
   "metadata": {},
   "outputs": [],
   "source": [
    "#1.1"
   ]
  },
  {
   "cell_type": "code",
   "execution_count": 1,
   "id": "d8e5ded7",
   "metadata": {},
   "outputs": [
    {
     "name": "stdout",
     "output_type": "stream",
     "text": [
      "Lỗi khi chưa khởi tạo E: name 'E' is not defined\n",
      "Ma trận E sau khi copy từ D:\n",
      " [[1 2]\n",
      " [3 4]]\n"
     ]
    }
   ],
   "source": [
    "import numpy as np\n",
    "D = np.array([[1, 2], [3, 4]])\n",
    "try:\n",
    "    np.copyto(E, D)\n",
    "except Exception as e1:\n",
    "    print(\"Lỗi khi chưa khởi tạo E:\", e1)\n",
    "E = np.array([[1, 2], [3, 5]])\n",
    "np.copyto(E, D)\n",
    "print(\"Ma trận E sau khi copy từ D:\\n\", E)\n"
   ]
  },
  {
   "cell_type": "code",
   "execution_count": 3,
   "id": "8bf85202",
   "metadata": {},
   "outputs": [
    {
     "name": "stdout",
     "output_type": "stream",
     "text": [
      "Ma trận B tạo từ chuỗi:\n",
      " [[1 2 3]\n",
      " [4 5 6]]\n",
      "Lỗi khi tạo matrix C chứa đối tượng hỗn hợp: setting an array element with a sequence. The requested array has an inhomogeneous shape after 2 dimensions. The detected shape was (2, 2) + inhomogeneous part.\n"
     ]
    }
   ],
   "source": [
    "B = np.matrix(\"[1 2 3; 4 5 6]\")  \n",
    "print(\"Ma trận B tạo từ chuỗi:\\n\", B)\n",
    "\n",
    "x = np.array([['a', 'b'], ['c', 'd']])\n",
    "y = 'x'\n",
    "try:\n",
    "    C = np.matrix([[x, y], [1, 2]])\n",
    "    print(\" Ma trận C:\\n\", C)\n",
    "except Exception as e:\n",
    "    print(\"Lỗi khi tạo matrix C chứa đối tượng hỗn hợp:\", e)\n"
   ]
  },
  {
   "cell_type": "code",
   "execution_count": null,
   "id": "2ff1f1d7",
   "metadata": {},
   "outputs": [],
   "source": [
    "#1.2"
   ]
  },
  {
   "cell_type": "code",
   "execution_count": 4,
   "id": "96e766f2",
   "metadata": {},
   "outputs": [
    {
     "name": "stdout",
     "output_type": "stream",
     "text": [
      "Lỗi khi tạo matrix 3D: matrix must be 2-dimensional\n",
      "Array 3D:\n",
      " [[[1 2]\n",
      "  [3 4]]\n",
      "\n",
      " [[5 6]\n",
      "  [7 8]]]\n"
     ]
    }
   ],
   "source": [
    "try:\n",
    "    A_matrix = np.matrix([[[1, 2], [3, 4]], [[5, 6], [7, 8]]])\n",
    "except Exception as e2:\n",
    "    print(\"Lỗi khi tạo matrix 3D:\", e2)\n",
    "\n",
    "A_array = np.array([[[1, 2], [3, 4]], [[5, 6], [7, 8]]])\n",
    "print(\"Array 3D:\\n\", A_array)\n"
   ]
  },
  {
   "cell_type": "code",
   "execution_count": 6,
   "id": "96a9feaf",
   "metadata": {},
   "outputs": [
    {
     "name": "stdout",
     "output_type": "stream",
     "text": [
      " Ma trận B tạo từ chuỗi:\n",
      " [[1 2 3]\n",
      " [4 5 6]]\n",
      " Lỗi khi tạo matrix C chứa đối tượng hỗn hợp: setting an array element with a sequence. The requested array has an inhomogeneous shape after 2 dimensions. The detected shape was (2, 2) + inhomogeneous part.\n"
     ]
    }
   ],
   "source": [
    "B = np.matrix(\"[1 2 3; 4 5 6]\")  \n",
    "print(\" Ma trận B tạo từ chuỗi:\\n\", B)\n",
    "\n",
    "x = np.array([['a', 'b'], ['c', 'd']])\n",
    "y = 'x'\n",
    "try:\n",
    "    C = np.matrix([[x, y], [1, 2]])\n",
    "    print(\" Ma trận C:\\n\", C)\n",
    "except Exception as e:\n",
    "    print(\" Lỗi khi tạo matrix C chứa đối tượng hỗn hợp:\", e)\n"
   ]
  }
 ],
 "metadata": {
  "kernelspec": {
   "display_name": "Python 3",
   "language": "python",
   "name": "python3"
  },
  "language_info": {
   "codemirror_mode": {
    "name": "ipython",
    "version": 3
   },
   "file_extension": ".py",
   "mimetype": "text/x-python",
   "name": "python",
   "nbconvert_exporter": "python",
   "pygments_lexer": "ipython3",
   "version": "3.11.9"
  }
 },
 "nbformat": 4,
 "nbformat_minor": 5
}
