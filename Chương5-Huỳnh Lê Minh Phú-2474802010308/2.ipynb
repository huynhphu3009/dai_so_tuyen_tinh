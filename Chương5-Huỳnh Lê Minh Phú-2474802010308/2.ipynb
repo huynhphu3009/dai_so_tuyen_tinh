{
 "cells": [
  {
   "cell_type": "code",
   "execution_count": null,
   "id": "75d646c0",
   "metadata": {},
   "outputs": [],
   "source": [
    "#2.1"
   ]
  },
  {
   "cell_type": "code",
   "execution_count": 4,
   "id": "c36f19b7",
   "metadata": {},
   "outputs": [],
   "source": [
    "def lien_phan_so(a, b):\n",
    "    \"\"\"Hàm tìm biểu diễn liên phân số của phân số a/b\"\"\"\n",
    "    result = []\n",
    "    while b != 0:\n",
    "        q = a // b\n",
    "        result.append(q)\n",
    "        a, b = b, a - q * b\n",
    "    return result\n"
   ]
  },
  {
   "cell_type": "code",
   "execution_count": 3,
   "id": "7e4be12d",
   "metadata": {},
   "outputs": [
    {
     "name": "stdout",
     "output_type": "stream",
     "text": [
      "Biểu diễn liên phân số của 9/7: [1, 3, 2]\n",
      "Biểu diễn liên phân số của 58/41: [1, 2, 2, 2, 3]\n"
     ]
    }
   ],
   "source": [
    "\n",
    "print(\"Biểu diễn liên phân số của 9/7:\", lien_phan_so(9, 7))\n",
    "\n",
    "print(\"Biểu diễn liên phân số của 58/41:\", lien_phan_so(58, 41))\n"
   ]
  },
  {
   "cell_type": "code",
   "execution_count": null,
   "id": "04d35894",
   "metadata": {},
   "outputs": [],
   "source": [
    "#2.2\n"
   ]
  },
  {
   "cell_type": "code",
   "execution_count": 6,
   "id": "49872c71",
   "metadata": {},
   "outputs": [
    {
     "name": "stdout",
     "output_type": "stream",
     "text": [
      "Giá trị xấp xỉ của π từ liên phân số: 3.1415926535897936\n"
     ]
    }
   ],
   "source": [
    "\n",
    "import numpy as np\n",
    "\n",
    "c = [3, 7, 15, 1, 292, 1, 1, 1, 2, 1, 3, 1, 14, 2]\n",
    "M = np.array([[1, 0], [0, 1]])\n",
    "\n",
    "for i in range(len(c)):\n",
    "    ci = np.array([[c[i], 1], [1, 0]])\n",
    "    M = M @ ci\n",
    "\n",
    "pi_approx = M[0, 0] / M[1, 0]\n",
    "print(\"Giá trị xấp xỉ của π từ liên phân số:\", pi_approx)\n"
   ]
  }
 ],
 "metadata": {
  "kernelspec": {
   "display_name": "Python 3",
   "language": "python",
   "name": "python3"
  },
  "language_info": {
   "codemirror_mode": {
    "name": "ipython",
    "version": 3
   },
   "file_extension": ".py",
   "mimetype": "text/x-python",
   "name": "python",
   "nbconvert_exporter": "python",
   "pygments_lexer": "ipython3",
   "version": "3.11.9"
  }
 },
 "nbformat": 4,
 "nbformat_minor": 5
}
