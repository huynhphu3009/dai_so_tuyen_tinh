{
 "cells": [
  {
   "cell_type": "markdown",
   "id": "ff2e91b4",
   "metadata": {},
   "source": [
    "3.1"
   ]
  },
  {
   "cell_type": "code",
   "execution_count": 8,
   "id": "c20fac0f",
   "metadata": {},
   "outputs": [
    {
     "name": "stdout",
     "output_type": "stream",
     "text": [
      "Các lần đo độ dài cái bàn (mm): [798 796 801 802 796]\n"
     ]
    }
   ],
   "source": [
    "import numpy as np\n",
    "true_length = 800\n",
    "measured = true_length + np.random.randint(-5, 6, size=5)\n",
    "print(\"Các lần đo độ dài cái bàn (mm):\", measured)\n"
   ]
  },
  {
   "cell_type": "markdown",
   "id": "2289c47a",
   "metadata": {},
   "source": [
    "3.2"
   ]
  },
  {
   "cell_type": "code",
   "execution_count": 7,
   "id": "c02e2d21",
   "metadata": {},
   "outputs": [
    {
     "name": "stdout",
     "output_type": "stream",
     "text": [
      "Ma trận X:\n",
      " [[1 1]\n",
      " [1 2]\n",
      " [1 3]\n",
      " [1 4]\n",
      " [1 5]]\n"
     ]
    }
   ],
   "source": [
    "import numpy as np\n",
    "x = np.array([1, 2, 3, 4, 5])\n",
    "y = np.array([1.0, 2.0, 4.0, 4.0, 6.0])\n",
    "X = np.vstack((np.ones_like(x), x)).T\n",
    "print(\"Ma trận X:\\n\", X)\n",
    "\n"
   ]
  },
  {
   "cell_type": "code",
   "execution_count": 6,
   "id": "ecedc05a",
   "metadata": {},
   "outputs": [],
   "source": [
    "import numpy as np\n",
    "\n",
    "X = np.array([\n",
    "    [1, 1],\n",
    "    [2, 1],\n",
    "    [3, 1],\n",
    "    [4, 1],\n",
    "    [5, 1]\n",
    "])\n",
    "y = np.array([1.5, 2.3, 2.9, 3.8, 4.2])\n"
   ]
  },
  {
   "cell_type": "code",
   "execution_count": 9,
   "id": "c295bbed",
   "metadata": {},
   "outputs": [
    {
     "name": "stdout",
     "output_type": "stream",
     "text": [
      "Hệ số hồi quy: a0 = -0.2000, a1 = 1.2000\n",
      "Phương trình: y = -0.2000 + 1.2000x\n"
     ]
    }
   ],
   "source": [
    "X_T = X.T\n",
    "A1 = np.linalg.inv(X_T @ X)\n",
    "A2 = X_T @ y\n",
    "A = A1 @ A2\n",
    "\n",
    "a0, a1 = A\n",
    "print(f\"Hệ số hồi quy: a0 = {a0:.4f}, a1 = {a1:.4f}\")\n",
    "print(f\"Phương trình: y = {a0:.4f} + {a1:.4f}x\")\n"
   ]
  },
  {
   "cell_type": "code",
   "execution_count": 11,
   "id": "7eea34a3",
   "metadata": {},
   "outputs": [
    {
     "name": "stdout",
     "output_type": "stream",
     "text": [
      "Dự đoán chiều cao ngày thứ 6: 7.00 cm\n",
      "Tổng sai số bình phương: 0.8\n"
     ]
    }
   ],
   "source": [
    "y_pred = X @ A\n",
    "day6 = np.array([1, 6]) @ A\n",
    "print(f\"Dự đoán chiều cao ngày thứ 6: {day6:.2f} cm\")\n",
    "sai_so = np.sum((y - y_pred) ** 2)\n",
    "print(\"Tổng sai số bình phương:\", round(sai_so, 3))\n"
   ]
  }
 ],
 "metadata": {
  "kernelspec": {
   "display_name": "Python 3",
   "language": "python",
   "name": "python3"
  },
  "language_info": {
   "codemirror_mode": {
    "name": "ipython",
    "version": 3
   },
   "file_extension": ".py",
   "mimetype": "text/x-python",
   "name": "python",
   "nbconvert_exporter": "python",
   "pygments_lexer": "ipython3",
   "version": "3.11.9"
  }
 },
 "nbformat": 4,
 "nbformat_minor": 5
}
