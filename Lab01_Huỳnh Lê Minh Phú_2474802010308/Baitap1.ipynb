{
 "cells": [
  {
   "cell_type": "code",
   "execution_count": 1,
   "id": "b16fba91",
   "metadata": {},
   "outputs": [
    {
     "name": "stdout",
     "output_type": "stream",
     "text": [
      "[2]\n",
      "[-sqrt(2), sqrt(2)]\n",
      "-sqrt(2)\n",
      "sqrt(2)\n"
     ]
    }
   ],
   "source": [
    "from sympy import symbols, solve\n",
    "x= symbols('x')\n",
    "bieuthuc1= x+3-5\n",
    "kq=solve(bieuthuc1)\n",
    "print(kq)\n",
    "#Kết quả: [2]\n",
    "\n",
    "biethuc= x**2+3-5\n",
    "nghiemx= solve(biethuc)\n",
    "print(nghiemx)\n",
    "#Kết quả: [-sqrt(2), sqrt(2)]\n",
    "nghiem_0= nghiemx[0]\n",
    "print(nghiem_0)\n",
    "#Kết quả: -sqrt(2)\n",
    "nghiem_1= nghiemx[1]\n",
    "print(nghiem_1)\n",
    "#kết quả: sqrt(2)"
   ]
  }
 ],
 "metadata": {
  "kernelspec": {
   "display_name": "Python 3",
   "language": "python",
   "name": "python3"
  },
  "language_info": {
   "codemirror_mode": {
    "name": "ipython",
    "version": 3
   },
   "file_extension": ".py",
   "mimetype": "text/x-python",
   "name": "python",
   "nbconvert_exporter": "python",
   "pygments_lexer": "ipython3",
   "version": "3.13.1"
  }
 },
 "nbformat": 4,
 "nbformat_minor": 5
}
