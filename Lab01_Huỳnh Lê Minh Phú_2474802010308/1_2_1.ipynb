{
 "cells": [
  {
   "cell_type": "code",
   "execution_count": 1,
   "id": "5516b359",
   "metadata": {},
   "outputs": [
    {
     "name": "stdout",
     "output_type": "stream",
     "text": [
      "Danh sách ghép: [1, 3, 5, 7]\n",
      "Danh sách sau khi nhân 2: [1, 3, 5, 7, 1, 3, 5, 7]\n",
      "Nhân từng phần tử với 2: [2, 6, 10, 14]\n",
      "Chia từng phần tử cho 2: [0.5, 1.5, 2.5, 3.5]\n",
      "Dữ liệu zip: [(2, 10), (3, 9), (4, 8), (1, 7)]\n",
      "Dạng set: {(2, 10), (1, 7), (3, 9), (4, 8)}\n",
      "Chuyển sang danh sách: [(2, 10), (1, 7), (3, 9), (4, 8)]\n"
     ]
    }
   ],
   "source": [
    "import itertools\n",
    "\n",
    "list1= [1, 3]\n",
    "list2= [5, 7]\n",
    "\n",
    "danh_sach= list1 + list2\n",
    "print(\"Danh sách ghép:\", danh_sach)\n",
    "\n",
    "danh_sach_gapdoi= 2 * danh_sach\n",
    "print(\"Danh sách sau khi nhân 2:\", danh_sach_gapdoi)\n",
    "\n",
    "nhan_2= [x * 2 for x in danh_sach]\n",
    "print(\"Nhân từng phần tử với 2:\", nhan_2)\n",
    "\n",
    "chia_2= [x / 2 for x in danh_sach]\n",
    "print(\"Chia từng phần tử cho 2:\", chia_2)\n",
    "\n",
    "thu_tu= [2, 3, 4, 1]\n",
    "diem_so= [10, 9, 8, 7]\n",
    "zip_data= list(zip(thu_tu, diem_so))\n",
    "print(\"Dữ liệu zip:\", zip_data)\n",
    "\n",
    "set_zip = set(zip_data)\n",
    "print(\"Dạng set:\", set_zip)\n",
    "\n",
    "list_from_set = list(set_zip)\n",
    "print(\"Chuyển sang danh sách:\", list_from_set)"
   ]
  }
 ],
 "metadata": {
  "kernelspec": {
   "display_name": "Python 3",
   "language": "python",
   "name": "python3"
  },
  "language_info": {
   "codemirror_mode": {
    "name": "ipython",
    "version": 3
   },
   "file_extension": ".py",
   "mimetype": "text/x-python",
   "name": "python",
   "nbconvert_exporter": "python",
   "pygments_lexer": "ipython3",
   "version": "3.13.1"
  }
 },
 "nbformat": 4,
 "nbformat_minor": 5
}
