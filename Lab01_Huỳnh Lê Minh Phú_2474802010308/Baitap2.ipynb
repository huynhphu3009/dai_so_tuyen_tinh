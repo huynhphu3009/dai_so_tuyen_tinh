{
 "cells": [
  {
   "cell_type": "code",
   "execution_count": 1,
   "id": "6e007778",
   "metadata": {},
   "outputs": [
    {
     "name": "stdout",
     "output_type": "stream",
     "text": [
      "[{x: -8}, {x: -1}]\n",
      "[{x: -1/2 - sqrt(39)*I/2}, {x: -1/2 + sqrt(39)*I/2}]\n"
     ]
    }
   ],
   "source": [
    "from sympy import Symbol, solve\n",
    "x= Symbol('x')\n",
    "ptb2= x**2 + 9*x +8\n",
    "print(solve(ptb2, dict = True))\n",
    "#Kết quả: [{x: -8}, {x: -1}]\n",
    "\n",
    "ptb2_2= x**2 + 1*x + 10\n",
    "nghiemx= solve(ptb2_2, dict = True)\n",
    "print(nghiemx)\n",
    "#Kết quả: [{x: -1/2 - sqrt(39)*I/2}, {x: -1/2 + sqrt(39)*I/2}]"
   ]
  }
 ],
 "metadata": {
  "kernelspec": {
   "display_name": "Python 3",
   "language": "python",
   "name": "python3"
  },
  "language_info": {
   "codemirror_mode": {
    "name": "ipython",
    "version": 3
   },
   "file_extension": ".py",
   "mimetype": "text/x-python",
   "name": "python",
   "nbconvert_exporter": "python",
   "pygments_lexer": "ipython3",
   "version": "3.13.1"
  }
 },
 "nbformat": 4,
 "nbformat_minor": 5
}
