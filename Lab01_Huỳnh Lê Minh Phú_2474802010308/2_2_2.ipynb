{
 "cells": [
  {
   "cell_type": "code",
   "execution_count": 2,
   "id": "c536d7a9",
   "metadata": {},
   "outputs": [
    {
     "name": "stdout",
     "output_type": "stream",
     "text": [
      " 2            2\n",
      "y  - 2⋅x⋅y + x \n",
      "        2\n",
      "(-y + x) \n"
     ]
    }
   ],
   "source": [
    "from sympy import pprint, factor\n",
    "from sympy import init_printing\n",
    "import sympy\n",
    "init_printing(order='rev-lex')\n",
    "x, y= sympy.symbols('x y')\n",
    "bieuthuc= x*x - 2*x*y + y*y\n",
    "pprint(bieuthuc, order='rev-lex')\n",
    "\n",
    "bieuthuc1= factor(bieuthuc)\n",
    "pprint(bieuthuc1)"
   ]
  }
 ],
 "metadata": {
  "kernelspec": {
   "display_name": "Python 3",
   "language": "python",
   "name": "python3"
  },
  "language_info": {
   "codemirror_mode": {
    "name": "ipython",
    "version": 3
   },
   "file_extension": ".py",
   "mimetype": "text/x-python",
   "name": "python",
   "nbconvert_exporter": "python",
   "pygments_lexer": "ipython3",
   "version": "3.13.1"
  }
 },
 "nbformat": 4,
 "nbformat_minor": 5
}
