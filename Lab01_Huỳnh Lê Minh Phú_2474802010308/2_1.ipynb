{
 "cells": [
  {
   "cell_type": "code",
   "execution_count": 1,
   "id": "08cdaef0",
   "metadata": {},
   "outputs": [
    {
     "name": "stdout",
     "output_type": "stream",
     "text": [
      "Biểu thức f= x + x + x + 2: 3*x + 2\n",
      "Kết quả của 3*b + 7*a: 3*Chim + 7*Noi\n",
      "Biểu thức x*y + y*x: 2*x*y\n",
      "P= (x + 2) * (y + 3): (x + 2)*(y + 3)\n",
      "Biểu thức sau khi mở rộng: x*y + 3*x + 2*y + 6\n",
      "Biểu thức (x+2)^2 * (y+3) sau khi khai triển: x**2*y + 3*x**2 + 4*x*y + 12*x + 4*y + 12\n"
     ]
    }
   ],
   "source": [
    "from sympy import Symbol, symbols, expand\n",
    "\n",
    "x= Symbol('x')\n",
    "f= x + x + x + 2\n",
    "print(\"Biểu thức f= x + x + x + 2:\", f)\n",
    "\n",
    "a= Symbol('Noi')\n",
    "b= Symbol('Chim')\n",
    "c= 3 * b + 7 * a\n",
    "print(\"Kết quả của 3*b + 7*a:\", c)\n",
    "\n",
    "y, z= symbols('y z')\n",
    "a, b, c= symbols('a b c')\n",
    "\n",
    "s= x * y + y * x\n",
    "print(\"Biểu thức x*y + y*x:\", s)\n",
    "\n",
    "p= (x + 2) * (y + 3)\n",
    "print(\"P= (x + 2) * (y + 3):\", p)\n",
    "\n",
    "p_expanded= expand(p)\n",
    "print(\"Biểu thức sau khi mở rộng:\", p_expanded)\n",
    "\n",
    "p1= (x + 2)**2 * (y + 3)\n",
    "p1_expanded = expand(p1)\n",
    "print(\"Biểu thức (x+2)^2 * (y+3) sau khi khai triển:\", p1_expanded)"
   ]
  }
 ],
 "metadata": {
  "kernelspec": {
   "display_name": "Python 3",
   "language": "python",
   "name": "python3"
  },
  "language_info": {
   "codemirror_mode": {
    "name": "ipython",
    "version": 3
   },
   "file_extension": ".py",
   "mimetype": "text/x-python",
   "name": "python",
   "nbconvert_exporter": "python",
   "pygments_lexer": "ipython3",
   "version": "3.13.1"
  }
 },
 "nbformat": 4,
 "nbformat_minor": 5
}
