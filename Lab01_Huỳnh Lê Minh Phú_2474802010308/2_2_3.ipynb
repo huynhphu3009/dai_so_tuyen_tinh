{
 "cells": [
  {
   "cell_type": "code",
   "execution_count": 1,
   "id": "1239a7d6",
   "metadata": {},
   "outputs": [
    {
     "name": "stdout",
     "output_type": "stream",
     "text": [
      "Kết quả thay thế trực tiếp: 7\n",
      "Thay x=3 rồi y=2: 7\n",
      "Thay y=2 rồi x=3: 7\n",
      "Thay x=y=3: 9\n",
      "Biểu thức sau khi đơn giản hoá: 7\n",
      "Kết quả khi x=π/4 và y=π/4: 1.00000000000000\n",
      "Kết quả sau khi đơn giản hoá: 1.00000000000000\n"
     ]
    }
   ],
   "source": [
    "from sympy import Symbol, sin, cos, simplify\n",
    "\n",
    "x= Symbol('x')\n",
    "y= Symbol('y')\n",
    "\n",
    "x_value= 3\n",
    "y_value= 2\n",
    "bieu_thuc= x**2 - x*y + y**2\n",
    "bieu_thuc_thay_the= bieu_thuc.subs({x: x_value, y: y_value})\n",
    "print(\"Kết quả thay thế trực tiếp:\", bieu_thuc_thay_the)\n",
    "\n",
    "#1 Thay x=3 rồi y=2\n",
    "bieu_thuc_1= bieu_thuc.subs({x: 3, y: 2})\n",
    "print(\"Thay x=3 rồi y=2:\", bieu_thuc_1)\n",
    "\n",
    "#2 Thay y=2 rồi x=3\n",
    "bieu_thuc_2= bieu_thuc.subs({y: 2}).subs({x: 3})\n",
    "print(\"Thay y=2 rồi x=3:\", bieu_thuc_2)\n",
    "\n",
    "#3 Thay lần lượt: x=y=3, rồi y=3, rồi x=3, dùng chuỗi lồng nhau\n",
    "bieu_thuc_3= bieu_thuc.subs({x: 3, y: 3})\n",
    "print(\"Thay x=y=3:\", bieu_thuc_3)\n",
    "\n",
    "bieu_thuc_don_gian= simplify(bieu_thuc.subs({x: 3, y: 2}))\n",
    "print(\"Biểu thức sau khi đơn giản hoá:\", bieu_thuc_don_gian)\n",
    "\n",
    "bt_sin_cos= sin(x)*cos(y) + cos(x)*sin(y)\n",
    "\n",
    "import math\n",
    "x_val= math.pi/4\n",
    "y_val= math.pi/4\n",
    "result= bt_sin_cos.subs({x: x_val, y: y_val})\n",
    "print(f\"Kết quả khi x=π/4 và y=π/4: {result.evalf()}\")\n",
    "\n",
    "simplified_result= simplify(bt_sin_cos.subs({x: x_val, y: y_val}))\n",
    "print(\"Kết quả sau khi đơn giản hoá:\", simplified_result)"
   ]
  }
 ],
 "metadata": {
  "kernelspec": {
   "display_name": "Python 3",
   "language": "python",
   "name": "python3"
  },
  "language_info": {
   "codemirror_mode": {
    "name": "ipython",
    "version": 3
   },
   "file_extension": ".py",
   "mimetype": "text/x-python",
   "name": "python",
   "nbconvert_exporter": "python",
   "pygments_lexer": "ipython3",
   "version": "3.13.1"
  }
 },
 "nbformat": 4,
 "nbformat_minor": 5
}
