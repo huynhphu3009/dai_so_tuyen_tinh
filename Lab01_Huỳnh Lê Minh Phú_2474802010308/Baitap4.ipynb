{
 "cells": [
  {
   "cell_type": "code",
   "execution_count": 1,
   "id": "3bb55c94",
   "metadata": {},
   "outputs": [
    {
     "name": "stdout",
     "output_type": "stream",
     "text": [
      "[{x: 3, y: 2}]\n",
      "0\n",
      "0\n"
     ]
    }
   ],
   "source": [
    "from sympy import Symbol, solve\n",
    "x= Symbol('x')\n",
    "y= Symbol('y')\n",
    "pt1= 2*x+3*y-12\n",
    "pt2= 3*x-2*y-5\n",
    "print(solve((pt1, pt2), dict=True))\n",
    "#Kết quả: [{x: 3, y: 2}]\n",
    "\n",
    "nghiem= solve((pt1, pt2), dict=True)\n",
    "nghiem= nghiem[0]\n",
    "print(pt1.subs({x:nghiem[x], y:nghiem[y]}))\n",
    "#Kết quả: 0\n",
    "print(pt2.subs({x:nghiem[x], y:nghiem[y]}))\n",
    "#Kết quả: 0"
   ]
  }
 ],
 "metadata": {
  "kernelspec": {
   "display_name": "Python 3",
   "language": "python",
   "name": "python3"
  },
  "language_info": {
   "codemirror_mode": {
    "name": "ipython",
    "version": 3
   },
   "file_extension": ".py",
   "mimetype": "text/x-python",
   "name": "python",
   "nbconvert_exporter": "python",
   "pygments_lexer": "ipython3",
   "version": "3.13.1"
  }
 },
 "nbformat": 4,
 "nbformat_minor": 5
}
