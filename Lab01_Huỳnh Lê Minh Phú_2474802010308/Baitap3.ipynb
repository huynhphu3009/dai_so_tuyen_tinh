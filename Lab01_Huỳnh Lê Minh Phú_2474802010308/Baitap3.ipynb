{
 "cells": [
  {
   "cell_type": "code",
   "execution_count": 1,
   "id": "cd1ef107",
   "metadata": {},
   "outputs": [
    {
     "name": "stdout",
     "output_type": "stream",
     "text": [
      "[{x: (-b - sqrt(-4*a*c + b**2))/(2*a)}, {x: (-b + sqrt(-4*a*c + b**2))/(2*a)}]\n"
     ]
    }
   ],
   "source": [
    "from sympy import Symbol, solve\n",
    "x= Symbol('x')\n",
    "a= Symbol('a')\n",
    "b= Symbol('b')\n",
    "c= Symbol('c')\n",
    "ptb2= a*x*x + b*x + c\n",
    "nghiem= solve(ptb2, x, dict=True)\n",
    "print(nghiem)\n",
    "#Kết quả: [{x: (-b - sqrt(-4*a*c + b**2))/(2*a)}, {x: (-b + sqrt(-4*a*c + b**2))/(2*a)}]"
   ]
  }
 ],
 "metadata": {
  "kernelspec": {
   "display_name": "Python 3",
   "language": "python",
   "name": "python3"
  },
  "language_info": {
   "codemirror_mode": {
    "name": "ipython",
    "version": 3
   },
   "file_extension": ".py",
   "mimetype": "text/x-python",
   "name": "python",
   "nbconvert_exporter": "python",
   "pygments_lexer": "ipython3",
   "version": "3.13.1"
  }
 },
 "nbformat": 4,
 "nbformat_minor": 5
}
